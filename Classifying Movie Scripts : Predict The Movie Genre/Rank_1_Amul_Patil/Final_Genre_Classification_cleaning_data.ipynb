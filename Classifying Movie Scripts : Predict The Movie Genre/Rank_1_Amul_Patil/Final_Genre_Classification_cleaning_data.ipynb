{
  "cells": [
    {
      "cell_type": "markdown",
      "metadata": {
        "colab_type": "text",
        "id": "IEFmR5J_COHU"
      },
      "source": [
        "## Import Required Files"
      ]
    },
    {
      "cell_type": "code",
      "execution_count": 0,
      "metadata": {
        "colab": {},
        "colab_type": "code",
        "id": "aa7dK1Ob0R65"
      },
      "outputs": [],
      "source": [
        "import pandas as pd\n",
        "import numpy as np\n",
        "import re\n",
        "\n",
        "import os\n",
        "# Load the Drive helper and mount\n",
        "from google.colab import drive\n",
        "\n",
        "# This will prompt for authorization.\n",
        "drive.mount('/content/drive')"
      ]
    },
    {
      "cell_type": "code",
      "execution_count": 0,
      "metadata": {
        "colab": {},
        "colab_type": "code",
        "id": "YosGM4uOCOHZ"
      },
      "outputs": [],
      "source": [
        "## change it to the unzip path of the downloaded dataset..\n",
        "!unzip 'drive/My Drive/datasets/MovieScriptsParticipantsData.zip'\n"
      ]
    },
    {
      "cell_type": "code",
      "execution_count": 0,
      "metadata": {
        "colab": {
          "base_uri": "https://localhost:8080/",
          "height": 34
        },
        "colab_type": "code",
        "id": "5MGrGh94COHh",
        "outputId": "0c0d8b7e-1a28-4578-ef99-2694d969bf82"
      },
      "outputs": [
        {
          "name": "stdout",
          "output_type": "stream",
          "text": [
            "Total Number of Files : 2827\n"
          ]
        }
      ],
      "source": [
        "data_folder = r'MovieScriptsParticipantsData/Scripts'\n",
        "all_files = os.listdir(data_folder)\n",
        "print('Total Number of Files :', len(all_files))"
      ]
    },
    {
      "cell_type": "markdown",
      "metadata": {
        "colab_type": "text",
        "id": "mGz4dM2bgEQB"
      },
      "source": [
        "# Read Train Files"
      ]
    },
    {
      "cell_type": "code",
      "execution_count": 0,
      "metadata": {
        "colab": {},
        "colab_type": "code",
        "id": "q-2U0-1kgEQB"
      },
      "outputs": [],
      "source": [
        "train_df = pd.read_csv('MovieScriptsParticipantsData/Train.csv')\n",
        "test_df = pd.read_csv('MovieScriptsParticipantsData/Test.csv', names=['File_Name'],header=0)\n",
        "## let's read the text scripts in the train and test dataframes..\n",
        "\n",
        "train_df['Script'] = [open(data_folder + os.sep + file, \"r\").read() for file in train_df['File_Name']]\n",
        "test_df['Script'] = [open(data_folder + os.sep + file, \"r\").read() for file in test_df['File_Name']]"
      ]
    },
    {
      "cell_type": "code",
      "execution_count": 0,
      "metadata": {
        "colab": {},
        "colab_type": "code",
        "id": "ESSiG_VlpIlE"
      },
      "outputs": [],
      "source": [
        "#combine both dataset to clean the data.\n",
        "all_data = pd.concat([train_df,test_df],ignore_index=True)"
      ]
    },
    {
      "cell_type": "markdown",
      "metadata": {
        "colab_type": "text",
        "id": "4fP5izXfgEQI"
      },
      "source": [
        "# Lets look at a script file after Reading to check what all cleaning is required.."
      ]
    },
    {
      "cell_type": "code",
      "execution_count": 0,
      "metadata": {
        "colab": {
          "base_uri": "https://localhost:8080/",
          "height": 318
        },
        "colab_type": "code",
        "id": "wg3joVWKgEQJ",
        "outputId": "f2198d00-9725-4e81-a514-a2ec45fb88dc",
        "scrolled": false
      },
      "outputs": [
        {
          "name": "stdout",
          "output_type": "stream",
          "text": [
            "\t\t\tCrouching Tiger, Hidden Dragon\n",
            "\n",
            "\t\t\t\tby\n",
            "\n",
            "\tWang Hui Ling, James Schamus, Tsai Kuo Jung\n",
            "\n",
            "\t\t\t\tbased on the novel by\n",
            "\n",
            "\t\t\t\tWang Du Lu\n",
            "\n",
            "EXT. YUAN COMPOUND - DAY\n",
            "\n",
            "Security men and porters are loading wagons for a convoy.\n",
            "\n",
            "As they work, we see across the lake a lone horseman entering\n",
            "\n",
            "the village.  One of\n"
          ]
        }
      ],
      "source": [
        "#lets check one of the scripts..\n",
        "print(all_data['Script'][0][:300])"
      ]
    },
    {
      "cell_type": "code",
      "execution_count": 0,
      "metadata": {
        "colab": {
          "base_uri": "https://localhost:8080/",
          "height": 390
        },
        "colab_type": "code",
        "id": "SV8a-vW8gEQN",
        "outputId": "f29ed715-69bd-43bf-98c2-dbad0affcd40"
      },
      "outputs": [
        {
          "name": "stdout",
          "output_type": "stream",
          "text": [
            "<b><!--\n",
            "\n",
            "</b>if (window!= top)\n",
            "\n",
            "top.location.href=location.href\n",
            "\n",
            "<b>// -->\n",
            "\n",
            "</b>\n",
            "\n",
            "The Abyss - by James Cameron \n",
            "\n",
            "                                  THE ABYSS\n",
            "\n",
            "                            AN ORIGINAL SCREENPLAY\n",
            "\n",
            "                                      BY\n",
            "\n",
            "                                JAMES CAMERON\n",
            "\n",
            " \n"
          ]
        }
      ],
      "source": [
        "print(all_data['Script'][4][:300])"
      ]
    },
    {
      "cell_type": "code",
      "execution_count": 0,
      "metadata": {
        "colab": {
          "base_uri": "https://localhost:8080/",
          "height": 70
        },
        "colab_type": "code",
        "id": "tTcbehg2IRJk",
        "outputId": "05a376f8-5497-488c-fc5f-757b533d1e75"
      },
      "outputs": [
        {
          "name": "stderr",
          "output_type": "stream",
          "text": [
            "/usr/local/lib/python3.6/dist-packages/ipykernel_launcher.py:1: TqdmDeprecationWarning: This function will be removed in tqdm==5.0.0\n",
            "Please use `tqdm.notebook.*` instead of `tqdm._tqdm_notebook.*`\n",
            "  \"\"\"Entry point for launching an IPython kernel.\n"
          ]
        }
      ],
      "source": [
        "#load libraries to track the progess\n",
        "from tqdm._tqdm_notebook import tqdm_notebook\n",
        "tqdm_notebook.pandas()"
      ]
    },
    {
      "cell_type": "code",
      "execution_count": 0,
      "metadata": {
        "colab": {},
        "colab_type": "code",
        "id": "WjKUsi65OrJL"
      },
      "outputs": [],
      "source": [
        "#function which are cleaning the texts from the dataset\n",
        "def remove_no_space(text):\n",
        "    REPLACE_NO_SPACE = re.compile(\"(\\.)|(\\t)|(\\;)|(\\:)|(\\!)|(\\?)|(\\,)|(#)|(')|(\\\")|(\\()|(\\))|(\\[)|(\\])|(\\d+)\")\n",
        "    NO_SPACE = \"\"\n",
        "    return re.sub(REPLACE_NO_SPACE,NO_SPACE, text)\n",
        "def remove_with_space(text):\n",
        "    REPLACE_WITH_SPACE = re.compile(\"(<b\\s*/><b\\s*/>)|(\\-)|(\\/)|(\\n)\")\n",
        "    SPACE = \" \"\n",
        "    return re.sub(REPLACE_WITH_SPACE,SPACE, text)\n",
        "def remove_access_space(text):\n",
        "    return re.sub(\"\\s\\s+\" , \" \", text)\n",
        "def remove_chars(text):\n",
        "    return re.sub(\"<b>< < b>if window= top toplocationhref=locationhref <b> > < b>\",\" \",text)\n",
        "\n",
        "def lower_case(text):\n",
        "    return text.lower()\n",
        "\n"
      ]
    },
    {
      "cell_type": "code",
      "execution_count": 0,
      "metadata": {
        "colab": {
          "base_uri": "https://localhost:8080/",
          "height": 265,
          "referenced_widgets": [
            "2644dc66944e41e5bb6339b29ad546b2",
            "14c4b3f1af1244e8906078ab6dde8d72",
            "7d9621ee51b0407088395dcb2c52beac",
            "9721239f2a6846eda0d9e6ad42b6b3b6",
            "694dc375daf245d78327b3c669164bb2",
            "14b28258edf74f3a8bbd1bd4f6069c94",
            "d4a6239a56474131a1d51a3edfd2482f",
            "2a11c40768f9450d9e9cc7064c0726b4",
            "29951f1b5d494740a066e624e067cd17",
            "5cbdd528c9f641b2b555945652ec93db",
            "52531e1cd9494d35bcc70060c98ea14d",
            "bf43d72799be463fac0c7ad948d54e1d",
            "50d7c2fb4b30461d9e03bb99f9195489",
            "2ec9997e2d48489f8cf3c9ba9e593537",
            "46181fa072a84658baf65f45e4d5660e",
            "d6182fdf5363467294214cfd47eaab00",
            "a9241366f7a54c0e9777c535e277afa0",
            "fba32fa94248423ba94d8f42f94f4083",
            "1aaad1b031a8407687f9f897ee15afea",
            "d82f969f48a04aa28c7302b781de980c",
            "2eaacc224449419790aa45b5ab8b6c8a",
            "9962704806894217924c763b11da23cc",
            "813225ecb8294e4b841d299ec536229e",
            "f53ef8691f4841bd993edf1d5cb27a6f",
            "c49b45c8fe684b2f896dafb623b14811",
            "58e6a45918d142c68e0aa7185f3feb6d",
            "c5444dccd56d4ba499152efebae56bdf",
            "d2d62acfe1bc46a4b70091a6bf0b6f62",
            "4210a9200a8340f6b284a56bea6c2463",
            "4195ca7e060841a8899fe61e87083994",
            "f6637a2778aa45a8a4cbef9113033bff",
            "188cf650f0c54db9a0bd3c7be39ebfe4",
            "f475202a9be4403bb8cfb9b5be57359e",
            "bb1af8c1a2c64d389c30b04dcb520b07",
            "a987f678fcc245e7b07af7594d673fed",
            "bae97fc93f3849b9a2b66c7bd8bec02c",
            "ee229892c8034aa4af4df2977d1ff7de",
            "d7a50c9b7105481dbb8032539a8e6263",
            "5361d7548ff147b88c9cde7e38d8581f",
            "8588a5bb894c4cb08e5e94818d025412"
          ]
        },
        "colab_type": "code",
        "id": "UbtxTMwoa3nj",
        "outputId": "a3dc7707-0105-4501-cf2e-b469cb88c409"
      },
      "outputs": [
        {
          "data": {
            "application/vnd.jupyter.widget-view+json": {
              "model_id": "2644dc66944e41e5bb6339b29ad546b2",
              "version_major": 2,
              "version_minor": 0
            },
            "text/plain": [
              "HBox(children=(IntProgress(value=0, max=2827), HTML(value='')))"
            ]
          },
          "metadata": {
            "tags": []
          },
          "output_type": "display_data"
        },
        {
          "name": "stdout",
          "output_type": "stream",
          "text": [
            "\n"
          ]
        },
        {
          "data": {
            "application/vnd.jupyter.widget-view+json": {
              "model_id": "29951f1b5d494740a066e624e067cd17",
              "version_major": 2,
              "version_minor": 0
            },
            "text/plain": [
              "HBox(children=(IntProgress(value=0, max=2827), HTML(value='')))"
            ]
          },
          "metadata": {
            "tags": []
          },
          "output_type": "display_data"
        },
        {
          "name": "stdout",
          "output_type": "stream",
          "text": [
            "\n"
          ]
        },
        {
          "data": {
            "application/vnd.jupyter.widget-view+json": {
              "model_id": "a9241366f7a54c0e9777c535e277afa0",
              "version_major": 2,
              "version_minor": 0
            },
            "text/plain": [
              "HBox(children=(IntProgress(value=0, max=2827), HTML(value='')))"
            ]
          },
          "metadata": {
            "tags": []
          },
          "output_type": "display_data"
        },
        {
          "name": "stdout",
          "output_type": "stream",
          "text": [
            "\n"
          ]
        },
        {
          "data": {
            "application/vnd.jupyter.widget-view+json": {
              "model_id": "c49b45c8fe684b2f896dafb623b14811",
              "version_major": 2,
              "version_minor": 0
            },
            "text/plain": [
              "HBox(children=(IntProgress(value=0, max=2827), HTML(value='')))"
            ]
          },
          "metadata": {
            "tags": []
          },
          "output_type": "display_data"
        },
        {
          "name": "stdout",
          "output_type": "stream",
          "text": [
            "\n"
          ]
        },
        {
          "data": {
            "application/vnd.jupyter.widget-view+json": {
              "model_id": "f475202a9be4403bb8cfb9b5be57359e",
              "version_major": 2,
              "version_minor": 0
            },
            "text/plain": [
              "HBox(children=(IntProgress(value=0, max=2827), HTML(value='')))"
            ]
          },
          "metadata": {
            "tags": []
          },
          "output_type": "display_data"
        },
        {
          "name": "stdout",
          "output_type": "stream",
          "text": [
            "\n"
          ]
        }
      ],
      "source": [
        "all_data['Script'] = all_data['Script'].progress_apply(lower_case)\n",
        "all_data['Script'] = all_data['Script'].progress_apply(remove_with_space)\n",
        "all_data['Script'] = all_data['Script'].progress_apply(remove_no_space)\n",
        "all_data['Script'] = all_data['Script'].progress_apply(remove_access_space)\n",
        "all_data['Script'] = all_data['Script'].progress_apply(remove_chars)\n"
      ]
    },
    {
      "cell_type": "code",
      "execution_count": 0,
      "metadata": {
        "colab": {
          "base_uri": "https://localhost:8080/",
          "height": 214
        },
        "colab_type": "code",
        "id": "jTN5Kb_mddT1",
        "outputId": "8c5a585d-0886-4320-95d9-a81e30ed2e3b"
      },
      "outputs": [
        {
          "name": "stdout",
          "output_type": "stream",
          "text": [
            "cradle to the grave written by john obrien and channing gibson story by john obrien may draft for educational purposes only fade in ext streets los angeles day end of the day an armored truck moves through the city of los angeles ext jewelry exchange day the armored truck pulls up an armored truck guard emerges from the back with a satchel and heads inside int jewelry exchange lobby continuous action a large foyer security station and elevators party sounds can be heard from a second floor balcony douglas is the security guard manning the station seeing the armored car guard entering he picks up the phone and dials beat into phone douglas last deliverys finally here the armored truck guard approaches the security station as he and douglas exchange paperwork the armored truck guard references the sounds from upstairs armored truck guard party douglas introducing a new line of jewelry armored truck guard wife wants me to buy her a ruby ring told her to spend a little time with the family jewels first ping an elevator opens a second security guards inside handing over the satchel and heading out armored truck guard keep it real int elevator continuous action we see the security guard with the satchel use a key card to gain elevator access to the lower floors as the elevator doors slide closed int vault anteroom moments later an exclusive showroom display tables empty at one end of the room the elevator at the other end the open door to a walk in vault the elevator pings and the doors open the guard emerges with the cart pushes it across the room to the outside of the vault a man in a suit emerges from the vault and starts unloading the cart into the vault int subway station day a train arrives people jostle on and off one man remains on the platform miles crisp dresser carrying a large leather bag a cylinder hanging by a strap over his shoulder the train doors begin to close when a fist inserts itself between the doors they re open and a man steps onto the platform tony fait well dressed intense fait joins miles they watch the train pull out they check to make sure the stations empty then jump off the platform into the tunnel and disappear int vault anteroom day the man in the suit has finished unloading the cart he closes the heavy vault door and spins a large wheel on the door securing the vault int subway tunnel day fait and miles run down the dark tunnel staying close to the wall miles stumbles falls toward the deadly high voltage third rail out of nowhere faits hand grabs miles jacket stops him just before he hits inches from the rail fait pulls him back up and away from the danger fait watch yourself miles nods fait keep it tight miles nods again and they set off int jewelry exchange lobby day sounds of the party continue from upstairs at the security station the guard douglas looks up from a magazine and scans the security monitors angle security monitors depicting the empty vault empty vault anteroom various empty store areas and the elevato\n",
            " heat by michael mann for educational purposes only revised draft march converted to pdf by screentalk wwwscreentalkorg ext cedars sinai wide day a monolith with alienating foregrounds a bus pulls in on beverly neil mccauley and a nurse get off neil carries a paper bag and wears white pants like a hospital attendant neil is an ice cold professional very big very tough at his short black hair is graying he spent eight years in mcneil and three in san quentin he got out and hit the street in four of the mcneil years were spent in the hole neils voice is street but his language is precise like an engineers hes very careful and very good neil runs a professional crew that pulls down high line high number scores and does it anyway the score has to be taken down if on the prowl a burglary thats fine if they have to go in strong armed thats fine too and if you get in their way thats got to be your problem his lifestyle is obsessively functional theres no steady woman or any encumbrance neil mccauley keeps it so theres nothing he couldnt walk from in seconds flat angle right now he enters the big double doors and pulls a white interns coat from his paper bag cut to int cedars sinai corridor traveling two shot day we dolly on neil as he crosses through the long crowded corridor patients nurses interns and doctors pass by a pa broadcasts occasional messages profile nail crosses under an emergency sign and keeps going towards the exit doors traveling frontal neil approaches the camera from the other direction two ambulance attendants wheel an old man under oxygen and pass by neil cut to wide rear shot without breaking his stride from the moment he got off the bus neil exits through the doors examines four ambulances parked in the slots climbs into one and drives off maybe hes stolen it we dont know cut to converted to pdf by wwwscreentalkorg ext r & c construction supplies on chris day chris shiherlis crosses past stacks of gravel and cement with a white coated black clerk chris wears a hard hat over a mongol cut levis black boots and a sleeveless sweat shirt and carries on one shoulder a lb red milwaukee tool company case he looks like a construction worker by day who by night hits las slams jams and raves hes from austin texas chris is also a highline pro a boxman who knows five ways to open any safe made right now hes buying a hollow core drill he and mccauley were cellmates in san quentin penitentiary from to chris hit the streets in hes a hot dog and spends money as fast as he makes it right now he and the clerk exit to the sales counter cut to ext sales counter two shot as they approach the clerk goes behind it clerk what you working on chris drillin some post holes into concrete clerk re toolcase with that you can ream solid steel check charge or cash chris cash put jacks fencing on the receipt clerk $ chris pays clerk writes receipt clerk continuing that a good racket i ought to get out from behind this counter chris takes receipt yeah beat take it \n",
            " martha marcy may marlene written by sean durkin ext farm day it is a hot summer day a large run down farm house several sheds a red roof barn and a decrepid silo sit between fields of dry uncut grass in a serene isolated valley two men tack together a broken fence that encloses an overgrown paddock three women work in a vegetable garden two women hang wet clothes on a clothes line two men work in a cluttered garage on an old car four women sit in a circle on a broken down buckling front porch one woman breast feeds a new born the others knit a large blanket two women and two men swim naked in a swimming hole a man in his forties sits alone in a room reading a man chops wood a bare foot toddler plays alone in the driveway int farm house day a large room with unfinished wood walls has several blankets and pillows laid out like beds on the floor two women are in the kitchen preparing food martha sets a table for eight martha is beautiful but appears run down she is years old but her weathered face makes her look older a bell rings off screen int farm house dining room evening the men sit around a table eating dinner one man sits at the head of the table this is patrick patrick is older than the other men to his right is watts a man in his early twenties with a greasy patchy beard int farm house kitchen continuous the women are scattered around the kitchen waiting the men finish dinner pass through the kitchen and walk outside the women file into the dining room clear the mens dishes put more chairs around the table and bring out a new serving of food int farm house dining room moments later the women sit around the table eating very small portions of low protein food katie sits at the head of the table cut to int farm house early morning the kitchen is filled with dishes two babies sleep next to each other in an old broken crib a teenage girl sleeps on the floor next to the crib people are strewn all over the house sleeping suddenly a figure passes quickly through frame ext farm house continuous martha walks out the front door across the porch and up the driveway she carries a small bag her pace becomes increasingly faster she looks back to see a teenage girl sarah standing in the window watching martha turns and walks faster heading straight for the woods as she gets to the edge of the trees she begins to run slow zoom martha disappears into the thick woods off screen the house door slams shut a man urgently yells out marcy may the camera holds on the trees shaking gently in the wind for a moment everything is quiet suddenly a man and two women enter frame and run into the woods chasing after martha ext woods continuous the woods are dark martha runs as fast as she can she hears the mans voice calling her from a distance a man and two women are chasing her martha arrives at a steep heavily wooded hill she keeps running at full speed then slips falls and rolls martha ducks behind a fallen tree and looks back to see the group arrive at the ridge to \n",
            " indiana jones and the temple of doom story by george lucas screenplay by willard huyck and gloria katz tm* & c lucasfilm ltd fade in int the dragon nightclub night a chinese gong sounds and the glittering doors of an art deco pa poda slide open to reveal a mammoth silver stairway down which rows of beautiful women start descending begin main titles the lovely ladies are a mix of races and they sing a strange haunting melody one might think them a heavenly choir if it werent for their sexy clinging lame gowns int club entrance from the ethereal beauties we cut to a street urchins dirty face short round is a ten year old chinese kis wearing a beat up american baseball cap sneaking into the club short round weaves past the fancy gowns and silk suits heading toward the music in the main ballroom int the ballroom short round enters and stares across the smoky nightclub on the stage he sees a giant paper mache dragon laying curled around the pagoda now the dragons eyes light up its nostrils exhale smoke and its enormous jaws open out of the dragons mouth walks the star of the stage show willie scott a dreamy beauty singing a sultry solo white the or chestra wails the accompaniment but short rounds not here to ogle crooning dames he surveys the rich chinese american and european revelers jewels flash and champagne flows short round finally spots a table of somber looking chinese men in suits short round chews gum and stares at the men then he turns to go wu han a waiter with a scar across his cheek watches short round leave int club entrance as short round hurries toward the exit he bumps into a man in a tuxedo entering the club short round looks up at the man but we dont see his face then short round is grabbed by the scruff of his neck and a door man hustles him out the door short round yelling insults all the way a maitre d apologizes to the man in the tuxedo and two hat check girls smile at him familiarly as he continues into the ballroom we notice something incongruous the man in the tuxedo is wear ing work boots caked with mud int the ballroom the man in the tuxedo stops to watch willie scott singing sexily on the stage then he looks around and sees the table of somber chinese men that short round spotted earlier as the man in the tuxedo walks toward the table he removes a cigarette from a silver case he arrives at the table just as the chorus and orchestra reach a crescendo and on the stage a glistening muscular slave swings a huge ham mer toward an enormous brass gong the man in the tuxedo leans to receive a light from a cigarette girl and as the gong booms the match flares to reveal his face for the first time its indiana jones elegant in a tuxedo dressed to kill the titles end and over this a legend appears on the screen shanghai at the table the four chinese man in suits stare coldly at indi ana lao dr jones indiana lao she lao nee chin lie how ma laos men laugh and assume that indy doesnt understand his joke indiana wah hung how nee nah wah\n",
            " awakenings scree nplay by steven aiian based on t he book by olive r sac ks october blue rev rev pink rev yellow rev green rev goldenrod rev salmon rev lavender rev cherry rev white rev blue rev pink rev yellow rev green a dusty deserted street saloon livery stable sunset only there is something unsettling about it all the colors are too muted and the angles not quite in perspective pulling slowly back eventually reveals the edges of a narrow wooden picture frame int bedroom night drifting away from the painting and slowly across a room across venetian blinds open letting in moonlight across intricate handmade wooden models dime novels and comic books across the arm of a metronome gently slapping back and forth and settling finally on a small hand writing slowly and deliberately over and over in synchronization it seems to the rhythm of the metronome the word l e o n a r d int dining room morning the pendulum of a clock an adult hand placing a bowl of cereal on a table leonard ten or eleven waits a moment for the adult to leave grasps his spoon and manipulates it from bowl to mouth in time with the soft regular rhythm of the clock ext street new york morning schoolbooks slung over their shoulders leonard and another boy his age a classmate move along a street all around them are visual rhythms lines in the sidewalk the even placement of trees the sunlight breaking through the branches above them and somewhere unseen the rhythmic pounding of an elevator train as they climb a fence a pocket watch leonards falls to the ground int classroom day an adult hand chalking the words of a poem on a blackboard children at desks dutifully transcribing the lesson all but one leonard whose hands are trembling slightly and whose paper is blank there is a noticeable lack of rhythms a cold silence the broken watch rests on his desk the boy from the train glancing at leonard begins gently tapping the end of his pen against his desk leonard guided by the cadence of his friends tapping begins to write o the teachers hand at the blackboard hesitates distracted by the rhythmic noise he traces it to the offender and silences him with a look \\ without the rhythm and without apparently inner natural rhythms to replace it leonards hand begins dragging the pen across the paper forming vague scrawl each word less defined than the last until they begin melding together into what resembles nothing so much as a childs rendering of ocean waves the teacher resumes chalking on the board the boy from the train begins tapping his pen again and guided again by the rhythm leonard is able to give definition to the ocean waves to form recognizable lettersand words the teacher hesitates again and glares at the boy making the irritating noise the boy stops tapping and leonards writing again becomes formless int classroom later day the finished poem on the blackboard the sounds of children at play on the schoolyard the teacher alone in the classroom o at his desk grading the penmanship le\n",
            "  aliens by james cameron aliens by james cameron first draft may aliens fade in sometime in the future space silent and endless the stars shine like the love of godcold and remote against them drifts a tiny chip of technology closer shot it is the narcissus lifeboat of the ill fated star freighter nostromo without interior or running lights it seems devoid of life the ping of a ranging radar grows louder closer a shadow engulfs the narcissus searchlights flash on playing over the tiny ship as a massive dark hull descends toward it int narcissus dark and dormant as a crypt the searchlights stream in the dusty windows outside massive metal forms can be seen descending around the shuttle like the tolling of a bell a basso profundo clang reverberates through the hull close on the airlock door light glares as a cutting torch bursts through the metal sparks shower into the room a second torch cuts through they move with machine precision cutting a rectangular path converging the torches meet cut off the door falls inward revealing a bizarre multi armed figure a robot welder figures enter backlit and ominous three men in bio isolation suits carrying lights and equipment they approach a sarcophaguslike hypersleep capsule fg leader filtered internal pressure positive assume nominal hull integrity hypersleep capsules style circa late twenties his gloved hand wipes at on opaque layer of dust on the canopy angle inside capsule as light stabs in where the dust is wiped away illuminating a woman her face in peaceful repose warrant officer ripley sole survivor of the nostromo nestled next to her is jones the ships wayward cat leader voice over filtered lights are green shes alive well there goes out salvage guys dissolve to int hospital room tight on ripley gateway station shes lying in a bed looking wan as a female med tech raises the backrest she is surrounded by arcane white medical equipment the med tech exudes practiced cheeriness med tech why dont i open the viewport watch your eyes harsh light floods in as a motorized shield slides into the ceiling revealing a breathtaking vista beyond the sprawling complex of modular habitats collectively called gateway station is the curve of earth as seen from high orbit blue and serene med tech and how are we today ripley weakly terrible med tech just terrible thats better than yesterday at least ripley how long have i been on gateway station med tech just a couple of days do you feel up to a visitor ripley shrugs not caring the door opens and a man enters although ripley sees only what he is carrying a familiar large orange tomcat ripley jones she grabs the cat like a life preserver ripley cooing baby cat talk come here jonesy you ugly old mooseyou ugly thing jones patiently endures ripleys embarrassing display seeming none the worse for wear the visitor sits beside the bed and ripley finally notices him he is thirtyish and handsome in a suit that looks executive or legal the tie loosened with studied casualness a \n",
            " charade written by peter stone based on a story by peter stone and marc behm october st fade in before titles ext french countryside dusk silence complete silence for the urbanite though the oncoming darkness is punctuated by the sounds of farm country a few birds a distant rumble of thunder from some heavy clouds on the horizon a dogs barking camera pans the green squared off flatland lit only by a fine sunset in its final throes then gradually starting from nothing a rumble is heard quickly growing louder and louder until the sound of a train can be recognized camera pans quickly discovering the railroad line atop a man made rise of land and the speeding passenger train is upon us flashing by with a roar then as if from nowhere the figure of a man hits the embankment and rolls crazily down to the bottom into the thick underbrush alongside the tracks close shot body it lies in the bushes still unmoving dead camera pans away to the quiet peaceful countryside as the sound of the train fades off until there is silence once more title music begins with a crash main titles deleted fade in ext megeve day a handsome and elegant hotel perched on the mountain side overlooking the french resort town a large open sun deck tables gaily colored parasols sun bathers one of the latter is regina lampert a lovely young girl she is besides taking in the sun involved in her favorite activity eating then a dark ominous shape intrudes in the fg focus changes to bring into sharp relief a revolver shining black and ugly in the sunlight reggie unaware of her danger continues to eat the finger tightens around the trigger and finally the gun shoots a stream of water arcs with unerring aim straight into reggies face another angle including jean louis a french boy of six or so reggie looks at him sternly jean louis in for trouble oh la reggie dont tell me you didnt know it was loaded calling sylvie wider angle sylvie gaudet french attractive blonde in her early thirties comes from the railing of the sun deck to join reggie and jean louis reggie isnt there something constructive he can do like start an avalanche sylvie to jean louis va jouer mon ange jean louis scampers off content to have gotten off so lightly sylvie notices reggies lunch which consists of cold chicken potato salad rolls and butter wine and coffee sylvie when you start to eat like this something is the matter no answer from reggie sylvie begins reading a magazine as reggie continues eating reggie sylvie im getting a divorce sylvie ca alors from charles reggie hes the only husband ive got i tried to make it work i really have but sylvie but what reggie i dont know how to explain it im just too miserable reggie picks up a chicken leg and starts off sylvie regards the devastated table before following sylvie it is infuriating that your unhappiness does not turn to fat int swimming pool day a magnificent indoor glass enclosed pool the vista of snow covered mountains seen through the ceiling high windows beyon\n",
            " orphan written by david leslie johnson february fade in close kate coleman mid s shes a simple beauty and very pregnant propped up in a bed wearing a hospital gown a heart rate monitor beeps she touches her swollen belly flush with excitement her eyes full of wonder mans voice os okayp just relaxnow thisll be over caitti before you know it kate looks up her smile falters as we reveal int delivery room night harsh lights overhead thunder rumbles outside kates on a delivery table legs already in the stirrups a sheet hangs across her belly so we cant see whats going on below her waist a doctor and nurse snap pn gloves prepare instruments sharp blades and curettes needles and forceps kate is stricken she tries to sit up kate wait ive changed my mind i dont want to do this anymore the doctor gives the nurse an exasperated look the nurse takes rates hand eases her back onto the table nurse your baby is dead theres nothing else we can do kate reels her world turned upside dowp emotional free fall kate no this isnt whats supposed to happen my babys alive nurse were so sorry a terrible loss were so sorry kate but its still alive its moving feel it you can feel it kate tries to put the nurses hand on herbelly but the nurse pulls away and hands the doctor a pair of gleamingblunt tipped surgical scissors the doctor leans between rates spread legs disappearing behind the curtain rate gasps rate no stop i want to be asleep doctor too late for anesthesia the babys coming youregoing to experience some pressure now kate winces and bites her lip as the doctor goes about his unseen work a good looking man in surgical scrubs stands behind him bizarrely hes videotaping the whole thing hes kates husband john late s he smiles at her from behind the camera john its okay honeys youre doing great the doctor hands the scissors now slick with gore to the nurse h e takes a suction catheter and disappears behind the curtain again the nurse presses a button on a vacuum pump and the machine begins to hum kate tightly closes her eyes kate this isnt happening wake up wake up wake up suddenly the thin wail of a baby crying rates eyes go wide w ith horror as the smiling nurse approaches with a wriggling bundle wrapped in a blanket blood seeps through the pink fabric w e cant see whats inside but its moving and its crying nurse congratulations mrs coleman its a girl the nurse offers her the bloody blanketed bundle kate screams int kate and johns bedroom night then snaps awake shes been having a nightmare john lies n ext to her in bed be stirs but doesnt wake kate slips out of bed and quickly pads to the bathroom int kate and johns bathroom night kate closes the door we now see that shes not pregnant in reality only in her nightmare she slides to the cold floor in t he dark a hand on her flat belly as she starts to cry int doctor brownings office day water trickles in a little zen fountain kate sits across from dr browning a mousy haired woman in her s dr browning a lot of women exp\n",
            "a dry white season rewrite by euzhan palcy may revised first draft for educational purposes only in the whole world there is not a single poor devil who is lynched not one miserable man who is tortured in whom i too i am not murdered and degraded aime cesaire pre title fade in ext dan pienaar secondary school for boys day dan pienaar school is a typical johannesburg afrikaan school the students are mainly from middle class families school athletics are in progress the stu dents in their smart school uniforms are cheering enthusiastically a relay race on the immaculately kept sports ground gordon ngubene a years old african laborer is work ing in the school garden a few feet away is his years old son jonathan leaning against a wall watching the games ben du toit a year old afrikaaner history teacher is enthusiastically cheering his son johan a years old who is leading neck and neck with another boy in the last leg of the race the excitement increases as they approach the tape ben is beside himself egging his son with shouts the young teacher viviers standing next to ben is shouting come on johan and slapping the father on the back johan breasts the tape just ahead of the other boy the ground is invaded by boys running to congratulate johan ben hurries towards his happy but exhausted son the proud father pushing his way through the animated boys as he reaches johan he pats him on the back ben this was your best race johan excited i beat him papa ben proudly you did son come on shower they walk happily towards the school buildings in conver sation johan being slapped on the back by friends ben stops to talk to gordon who jumps to his feet ben ill be expecting you there isnt much to do only weeding the marigolds and watering the lawn and flowers continued continued gordon well be there mr bensir jonathan come to help me ben hadnt seen jonathan he turns to him ben and hows the algebra still giving you trouble jonathan with respect just a little mr bensir johan me too gordon straightening himself hes working hard mr bensir and your money will not be wasted emily and me will always thank you ben as he leaves see you both later gordon returns to his work a little distance further a group of students are laughing and pushing each other boisterously as they near jonathan two nudge each other and giggle then one of them trips jonathan he falls to the ground and jumps up aggressively about to attack the boy gordon shouts jonathan the headmaster mrs cloete aged years has observed the incident but takes no action jonathan stands panting with rage he suddenly strides away towards the gate in a rage gordon shouting angrily u ya phi where are you going jonathan turns to look at his father and continues to walk off titles ext soweto beer hall afternoon the beer hall is a large complex with a drinking area with long rows of low benches continued continued men sit drinking african beer in one half and one gallon plastics containers the place buzzes with noise severa\n",
            " crash screenplay by david cronenberg based on a novel by jg ballard shooting draft ext airfield day we are moving through a small airfield full of parked light planes there are no people around we move through the cluster of planes toward a hangar on the edge of the field int hangar day we are still moving through light planes but now we are inside the hangar some of the planes have their engine covers open parts strewn around others are partially covered with tarps or have sections missing there is even a sleek executive jet parked in one corner as we float past the planes we notice a woman leaning against the wing of a piper cub her chest against the wings trailing edge her arms spread out to each side as though flying herself as we get closer we see that her jacket is pulled open to expose one of her breasts which rests on the metal of the wing cu breast on metal cu hard nipple and rivets cu woman catherine early thirties dark short hair stylish executive clothes her eyes are wide open but unfocussed a hand grips her shoulder from behind we follow the hand down behind catherine and discover a man crouched behind her kissing her back catherine is standing on a low mechanics platform and her skirt has been raised and hooked over the wings flap she wears garters and stockings but no panties the man handsome cruel looking rises up behind her enters her kisses her neck catherine half closes her eyes she rotates her pelvis gently against the thrusting ext film studio day we are floating toward the modest gates of a small film studio the sign above the gates says cineterra in art deco script int film studio day we now float through a film set on which a commercial for a mini van is being shot lights are being reset the van polished for a beauty tracking shot we pick up an assistant director as he strides through the action looking for someone ad im looking for james has anybody seen james ballard you know who i mean the producer of this epic a dolly grip with very close cropped hair looks up from a section of dolly track which he is adjusting with small wooden wedges grip i think i saw him in the camera department int film studio camera room day we float toward the door marked camera dept inside the room we find a young woman a camera assistant wearing a t shirt and heavy woolen socks and work boots and nothing else she is draped across a table strewn with camera parts stomach down head resting on a black crackle finish camera magazine her legs spread camera parts and cases tripods changing bags everywhere a man is behind her kissing the backs of her thighs we hear the sound of the ad approaching with deliberately heavy footsteps the ad pauses just outside the door ad off screen james james are you in there could we please get your stamp of approval on our little tracking shot the man james looks up from the womans thighs james of course be there in a minute the camera girl twists around on to her back and throws her legs over jamess shoulders camer\n"
          ]
        }
      ],
      "source": [
        "#lets check what our random 10 rows looks like .To check if there are any data cleaning required\n",
        "for i in np.random.randint(all_data.shape[0], size=10):\n",
        "  print(all_data['Script'][i][:3000])"
      ]
    },
    {
      "cell_type": "code",
      "execution_count": 0,
      "metadata": {
        "colab": {},
        "colab_type": "code",
        "id": "Mj9SvgJmvs3R"
      },
      "outputs": [],
      "source": [
        "# lets change dataset into more easy accesible format for further experimenting\n",
        "all_data.to_feather('drive/My Drive/datasets/cleaned_data.ft')"
      ]
    }
  ],
  "metadata": {
    "colab": {
      "collapsed_sections": [],
      "machine_shape": "hm",
      "name": "Final Genre Classification_cleaning_data.ipynb",
      "provenance": []
    },
    "kernelspec": {
      "display_name": "Python 3",
      "name": "python3"
    },
    "language_info": {
      "codemirror_mode": {
        "name": "ipython",
        "version": 3
      },
      "file_extension": ".py",
      "mimetype": "text/x-python",
      "name": "python",
      "nbconvert_exporter": "python",
      "pygments_lexer": "ipython3",
      "version": "3.7.4"
    },
    "widgets": {
      "application/vnd.jupyter.widget-state+json": {
        "14b28258edf74f3a8bbd1bd4f6069c94": {
          "model_module": "@jupyter-widgets/base",
          "model_name": "LayoutModel",
          "state": {
            "_model_module": "@jupyter-widgets/base",
            "_model_module_version": "1.2.0",
            "_model_name": "LayoutModel",
            "_view_count": null,
            "_view_module": "@jupyter-widgets/base",
            "_view_module_version": "1.2.0",
            "_view_name": "LayoutView",
            "align_content": null,
            "align_items": null,
            "align_self": null,
            "border": null,
            "bottom": null,
            "display": null,
            "flex": null,
            "flex_flow": null,
            "grid_area": null,
            "grid_auto_columns": null,
            "grid_auto_flow": null,
            "grid_auto_rows": null,
            "grid_column": null,
            "grid_gap": null,
            "grid_row": null,
            "grid_template_areas": null,
            "grid_template_columns": null,
            "grid_template_rows": null,
            "height": null,
            "justify_content": null,
            "justify_items": null,
            "left": null,
            "margin": null,
            "max_height": null,
            "max_width": null,
            "min_height": null,
            "min_width": null,
            "object_fit": null,
            "object_position": null,
            "order": null,
            "overflow": null,
            "overflow_x": null,
            "overflow_y": null,
            "padding": null,
            "right": null,
            "top": null,
            "visibility": null,
            "width": null
          }
        },
        "14c4b3f1af1244e8906078ab6dde8d72": {
          "model_module": "@jupyter-widgets/base",
          "model_name": "LayoutModel",
          "state": {
            "_model_module": "@jupyter-widgets/base",
            "_model_module_version": "1.2.0",
            "_model_name": "LayoutModel",
            "_view_count": null,
            "_view_module": "@jupyter-widgets/base",
            "_view_module_version": "1.2.0",
            "_view_name": "LayoutView",
            "align_content": null,
            "align_items": null,
            "align_self": null,
            "border": null,
            "bottom": null,
            "display": null,
            "flex": null,
            "flex_flow": null,
            "grid_area": null,
            "grid_auto_columns": null,
            "grid_auto_flow": null,
            "grid_auto_rows": null,
            "grid_column": null,
            "grid_gap": null,
            "grid_row": null,
            "grid_template_areas": null,
            "grid_template_columns": null,
            "grid_template_rows": null,
            "height": null,
            "justify_content": null,
            "justify_items": null,
            "left": null,
            "margin": null,
            "max_height": null,
            "max_width": null,
            "min_height": null,
            "min_width": null,
            "object_fit": null,
            "object_position": null,
            "order": null,
            "overflow": null,
            "overflow_x": null,
            "overflow_y": null,
            "padding": null,
            "right": null,
            "top": null,
            "visibility": null,
            "width": null
          }
        },
        "188cf650f0c54db9a0bd3c7be39ebfe4": {
          "model_module": "@jupyter-widgets/base",
          "model_name": "LayoutModel",
          "state": {
            "_model_module": "@jupyter-widgets/base",
            "_model_module_version": "1.2.0",
            "_model_name": "LayoutModel",
            "_view_count": null,
            "_view_module": "@jupyter-widgets/base",
            "_view_module_version": "1.2.0",
            "_view_name": "LayoutView",
            "align_content": null,
            "align_items": null,
            "align_self": null,
            "border": null,
            "bottom": null,
            "display": null,
            "flex": null,
            "flex_flow": null,
            "grid_area": null,
            "grid_auto_columns": null,
            "grid_auto_flow": null,
            "grid_auto_rows": null,
            "grid_column": null,
            "grid_gap": null,
            "grid_row": null,
            "grid_template_areas": null,
            "grid_template_columns": null,
            "grid_template_rows": null,
            "height": null,
            "justify_content": null,
            "justify_items": null,
            "left": null,
            "margin": null,
            "max_height": null,
            "max_width": null,
            "min_height": null,
            "min_width": null,
            "object_fit": null,
            "object_position": null,
            "order": null,
            "overflow": null,
            "overflow_x": null,
            "overflow_y": null,
            "padding": null,
            "right": null,
            "top": null,
            "visibility": null,
            "width": null
          }
        },
        "1aaad1b031a8407687f9f897ee15afea": {
          "model_module": "@jupyter-widgets/controls",
          "model_name": "IntProgressModel",
          "state": {
            "_dom_classes": [],
            "_model_module": "@jupyter-widgets/controls",
            "_model_module_version": "1.5.0",
            "_model_name": "IntProgressModel",
            "_view_count": null,
            "_view_module": "@jupyter-widgets/controls",
            "_view_module_version": "1.5.0",
            "_view_name": "ProgressView",
            "bar_style": "success",
            "description": "100%",
            "description_tooltip": null,
            "layout": "IPY_MODEL_9962704806894217924c763b11da23cc",
            "max": 2827,
            "min": 0,
            "orientation": "horizontal",
            "style": "IPY_MODEL_2eaacc224449419790aa45b5ab8b6c8a",
            "value": 2827
          }
        },
        "2644dc66944e41e5bb6339b29ad546b2": {
          "model_module": "@jupyter-widgets/controls",
          "model_name": "HBoxModel",
          "state": {
            "_dom_classes": [],
            "_model_module": "@jupyter-widgets/controls",
            "_model_module_version": "1.5.0",
            "_model_name": "HBoxModel",
            "_view_count": null,
            "_view_module": "@jupyter-widgets/controls",
            "_view_module_version": "1.5.0",
            "_view_name": "HBoxView",
            "box_style": "",
            "children": [
              "IPY_MODEL_7d9621ee51b0407088395dcb2c52beac",
              "IPY_MODEL_9721239f2a6846eda0d9e6ad42b6b3b6"
            ],
            "layout": "IPY_MODEL_14c4b3f1af1244e8906078ab6dde8d72"
          }
        },
        "29951f1b5d494740a066e624e067cd17": {
          "model_module": "@jupyter-widgets/controls",
          "model_name": "HBoxModel",
          "state": {
            "_dom_classes": [],
            "_model_module": "@jupyter-widgets/controls",
            "_model_module_version": "1.5.0",
            "_model_name": "HBoxModel",
            "_view_count": null,
            "_view_module": "@jupyter-widgets/controls",
            "_view_module_version": "1.5.0",
            "_view_name": "HBoxView",
            "box_style": "",
            "children": [
              "IPY_MODEL_52531e1cd9494d35bcc70060c98ea14d",
              "IPY_MODEL_bf43d72799be463fac0c7ad948d54e1d"
            ],
            "layout": "IPY_MODEL_5cbdd528c9f641b2b555945652ec93db"
          }
        },
        "2a11c40768f9450d9e9cc7064c0726b4": {
          "model_module": "@jupyter-widgets/base",
          "model_name": "LayoutModel",
          "state": {
            "_model_module": "@jupyter-widgets/base",
            "_model_module_version": "1.2.0",
            "_model_name": "LayoutModel",
            "_view_count": null,
            "_view_module": "@jupyter-widgets/base",
            "_view_module_version": "1.2.0",
            "_view_name": "LayoutView",
            "align_content": null,
            "align_items": null,
            "align_self": null,
            "border": null,
            "bottom": null,
            "display": null,
            "flex": null,
            "flex_flow": null,
            "grid_area": null,
            "grid_auto_columns": null,
            "grid_auto_flow": null,
            "grid_auto_rows": null,
            "grid_column": null,
            "grid_gap": null,
            "grid_row": null,
            "grid_template_areas": null,
            "grid_template_columns": null,
            "grid_template_rows": null,
            "height": null,
            "justify_content": null,
            "justify_items": null,
            "left": null,
            "margin": null,
            "max_height": null,
            "max_width": null,
            "min_height": null,
            "min_width": null,
            "object_fit": null,
            "object_position": null,
            "order": null,
            "overflow": null,
            "overflow_x": null,
            "overflow_y": null,
            "padding": null,
            "right": null,
            "top": null,
            "visibility": null,
            "width": null
          }
        },
        "2eaacc224449419790aa45b5ab8b6c8a": {
          "model_module": "@jupyter-widgets/controls",
          "model_name": "ProgressStyleModel",
          "state": {
            "_model_module": "@jupyter-widgets/controls",
            "_model_module_version": "1.5.0",
            "_model_name": "ProgressStyleModel",
            "_view_count": null,
            "_view_module": "@jupyter-widgets/base",
            "_view_module_version": "1.2.0",
            "_view_name": "StyleView",
            "bar_color": null,
            "description_width": "initial"
          }
        },
        "2ec9997e2d48489f8cf3c9ba9e593537": {
          "model_module": "@jupyter-widgets/base",
          "model_name": "LayoutModel",
          "state": {
            "_model_module": "@jupyter-widgets/base",
            "_model_module_version": "1.2.0",
            "_model_name": "LayoutModel",
            "_view_count": null,
            "_view_module": "@jupyter-widgets/base",
            "_view_module_version": "1.2.0",
            "_view_name": "LayoutView",
            "align_content": null,
            "align_items": null,
            "align_self": null,
            "border": null,
            "bottom": null,
            "display": null,
            "flex": null,
            "flex_flow": null,
            "grid_area": null,
            "grid_auto_columns": null,
            "grid_auto_flow": null,
            "grid_auto_rows": null,
            "grid_column": null,
            "grid_gap": null,
            "grid_row": null,
            "grid_template_areas": null,
            "grid_template_columns": null,
            "grid_template_rows": null,
            "height": null,
            "justify_content": null,
            "justify_items": null,
            "left": null,
            "margin": null,
            "max_height": null,
            "max_width": null,
            "min_height": null,
            "min_width": null,
            "object_fit": null,
            "object_position": null,
            "order": null,
            "overflow": null,
            "overflow_x": null,
            "overflow_y": null,
            "padding": null,
            "right": null,
            "top": null,
            "visibility": null,
            "width": null
          }
        },
        "4195ca7e060841a8899fe61e87083994": {
          "model_module": "@jupyter-widgets/base",
          "model_name": "LayoutModel",
          "state": {
            "_model_module": "@jupyter-widgets/base",
            "_model_module_version": "1.2.0",
            "_model_name": "LayoutModel",
            "_view_count": null,
            "_view_module": "@jupyter-widgets/base",
            "_view_module_version": "1.2.0",
            "_view_name": "LayoutView",
            "align_content": null,
            "align_items": null,
            "align_self": null,
            "border": null,
            "bottom": null,
            "display": null,
            "flex": null,
            "flex_flow": null,
            "grid_area": null,
            "grid_auto_columns": null,
            "grid_auto_flow": null,
            "grid_auto_rows": null,
            "grid_column": null,
            "grid_gap": null,
            "grid_row": null,
            "grid_template_areas": null,
            "grid_template_columns": null,
            "grid_template_rows": null,
            "height": null,
            "justify_content": null,
            "justify_items": null,
            "left": null,
            "margin": null,
            "max_height": null,
            "max_width": null,
            "min_height": null,
            "min_width": null,
            "object_fit": null,
            "object_position": null,
            "order": null,
            "overflow": null,
            "overflow_x": null,
            "overflow_y": null,
            "padding": null,
            "right": null,
            "top": null,
            "visibility": null,
            "width": null
          }
        },
        "4210a9200a8340f6b284a56bea6c2463": {
          "model_module": "@jupyter-widgets/controls",
          "model_name": "ProgressStyleModel",
          "state": {
            "_model_module": "@jupyter-widgets/controls",
            "_model_module_version": "1.5.0",
            "_model_name": "ProgressStyleModel",
            "_view_count": null,
            "_view_module": "@jupyter-widgets/base",
            "_view_module_version": "1.2.0",
            "_view_name": "StyleView",
            "bar_color": null,
            "description_width": "initial"
          }
        },
        "46181fa072a84658baf65f45e4d5660e": {
          "model_module": "@jupyter-widgets/controls",
          "model_name": "DescriptionStyleModel",
          "state": {
            "_model_module": "@jupyter-widgets/controls",
            "_model_module_version": "1.5.0",
            "_model_name": "DescriptionStyleModel",
            "_view_count": null,
            "_view_module": "@jupyter-widgets/base",
            "_view_module_version": "1.2.0",
            "_view_name": "StyleView",
            "description_width": ""
          }
        },
        "50d7c2fb4b30461d9e03bb99f9195489": {
          "model_module": "@jupyter-widgets/controls",
          "model_name": "ProgressStyleModel",
          "state": {
            "_model_module": "@jupyter-widgets/controls",
            "_model_module_version": "1.5.0",
            "_model_name": "ProgressStyleModel",
            "_view_count": null,
            "_view_module": "@jupyter-widgets/base",
            "_view_module_version": "1.2.0",
            "_view_name": "StyleView",
            "bar_color": null,
            "description_width": "initial"
          }
        },
        "52531e1cd9494d35bcc70060c98ea14d": {
          "model_module": "@jupyter-widgets/controls",
          "model_name": "IntProgressModel",
          "state": {
            "_dom_classes": [],
            "_model_module": "@jupyter-widgets/controls",
            "_model_module_version": "1.5.0",
            "_model_name": "IntProgressModel",
            "_view_count": null,
            "_view_module": "@jupyter-widgets/controls",
            "_view_module_version": "1.5.0",
            "_view_name": "ProgressView",
            "bar_style": "success",
            "description": "100%",
            "description_tooltip": null,
            "layout": "IPY_MODEL_2ec9997e2d48489f8cf3c9ba9e593537",
            "max": 2827,
            "min": 0,
            "orientation": "horizontal",
            "style": "IPY_MODEL_50d7c2fb4b30461d9e03bb99f9195489",
            "value": 2827
          }
        },
        "5361d7548ff147b88c9cde7e38d8581f": {
          "model_module": "@jupyter-widgets/controls",
          "model_name": "DescriptionStyleModel",
          "state": {
            "_model_module": "@jupyter-widgets/controls",
            "_model_module_version": "1.5.0",
            "_model_name": "DescriptionStyleModel",
            "_view_count": null,
            "_view_module": "@jupyter-widgets/base",
            "_view_module_version": "1.2.0",
            "_view_name": "StyleView",
            "description_width": ""
          }
        },
        "58e6a45918d142c68e0aa7185f3feb6d": {
          "model_module": "@jupyter-widgets/base",
          "model_name": "LayoutModel",
          "state": {
            "_model_module": "@jupyter-widgets/base",
            "_model_module_version": "1.2.0",
            "_model_name": "LayoutModel",
            "_view_count": null,
            "_view_module": "@jupyter-widgets/base",
            "_view_module_version": "1.2.0",
            "_view_name": "LayoutView",
            "align_content": null,
            "align_items": null,
            "align_self": null,
            "border": null,
            "bottom": null,
            "display": null,
            "flex": null,
            "flex_flow": null,
            "grid_area": null,
            "grid_auto_columns": null,
            "grid_auto_flow": null,
            "grid_auto_rows": null,
            "grid_column": null,
            "grid_gap": null,
            "grid_row": null,
            "grid_template_areas": null,
            "grid_template_columns": null,
            "grid_template_rows": null,
            "height": null,
            "justify_content": null,
            "justify_items": null,
            "left": null,
            "margin": null,
            "max_height": null,
            "max_width": null,
            "min_height": null,
            "min_width": null,
            "object_fit": null,
            "object_position": null,
            "order": null,
            "overflow": null,
            "overflow_x": null,
            "overflow_y": null,
            "padding": null,
            "right": null,
            "top": null,
            "visibility": null,
            "width": null
          }
        },
        "5cbdd528c9f641b2b555945652ec93db": {
          "model_module": "@jupyter-widgets/base",
          "model_name": "LayoutModel",
          "state": {
            "_model_module": "@jupyter-widgets/base",
            "_model_module_version": "1.2.0",
            "_model_name": "LayoutModel",
            "_view_count": null,
            "_view_module": "@jupyter-widgets/base",
            "_view_module_version": "1.2.0",
            "_view_name": "LayoutView",
            "align_content": null,
            "align_items": null,
            "align_self": null,
            "border": null,
            "bottom": null,
            "display": null,
            "flex": null,
            "flex_flow": null,
            "grid_area": null,
            "grid_auto_columns": null,
            "grid_auto_flow": null,
            "grid_auto_rows": null,
            "grid_column": null,
            "grid_gap": null,
            "grid_row": null,
            "grid_template_areas": null,
            "grid_template_columns": null,
            "grid_template_rows": null,
            "height": null,
            "justify_content": null,
            "justify_items": null,
            "left": null,
            "margin": null,
            "max_height": null,
            "max_width": null,
            "min_height": null,
            "min_width": null,
            "object_fit": null,
            "object_position": null,
            "order": null,
            "overflow": null,
            "overflow_x": null,
            "overflow_y": null,
            "padding": null,
            "right": null,
            "top": null,
            "visibility": null,
            "width": null
          }
        },
        "694dc375daf245d78327b3c669164bb2": {
          "model_module": "@jupyter-widgets/controls",
          "model_name": "ProgressStyleModel",
          "state": {
            "_model_module": "@jupyter-widgets/controls",
            "_model_module_version": "1.5.0",
            "_model_name": "ProgressStyleModel",
            "_view_count": null,
            "_view_module": "@jupyter-widgets/base",
            "_view_module_version": "1.2.0",
            "_view_name": "StyleView",
            "bar_color": null,
            "description_width": "initial"
          }
        },
        "7d9621ee51b0407088395dcb2c52beac": {
          "model_module": "@jupyter-widgets/controls",
          "model_name": "IntProgressModel",
          "state": {
            "_dom_classes": [],
            "_model_module": "@jupyter-widgets/controls",
            "_model_module_version": "1.5.0",
            "_model_name": "IntProgressModel",
            "_view_count": null,
            "_view_module": "@jupyter-widgets/controls",
            "_view_module_version": "1.5.0",
            "_view_name": "ProgressView",
            "bar_style": "success",
            "description": "100%",
            "description_tooltip": null,
            "layout": "IPY_MODEL_14b28258edf74f3a8bbd1bd4f6069c94",
            "max": 2827,
            "min": 0,
            "orientation": "horizontal",
            "style": "IPY_MODEL_694dc375daf245d78327b3c669164bb2",
            "value": 2827
          }
        },
        "813225ecb8294e4b841d299ec536229e": {
          "model_module": "@jupyter-widgets/controls",
          "model_name": "DescriptionStyleModel",
          "state": {
            "_model_module": "@jupyter-widgets/controls",
            "_model_module_version": "1.5.0",
            "_model_name": "DescriptionStyleModel",
            "_view_count": null,
            "_view_module": "@jupyter-widgets/base",
            "_view_module_version": "1.2.0",
            "_view_name": "StyleView",
            "description_width": ""
          }
        },
        "8588a5bb894c4cb08e5e94818d025412": {
          "model_module": "@jupyter-widgets/base",
          "model_name": "LayoutModel",
          "state": {
            "_model_module": "@jupyter-widgets/base",
            "_model_module_version": "1.2.0",
            "_model_name": "LayoutModel",
            "_view_count": null,
            "_view_module": "@jupyter-widgets/base",
            "_view_module_version": "1.2.0",
            "_view_name": "LayoutView",
            "align_content": null,
            "align_items": null,
            "align_self": null,
            "border": null,
            "bottom": null,
            "display": null,
            "flex": null,
            "flex_flow": null,
            "grid_area": null,
            "grid_auto_columns": null,
            "grid_auto_flow": null,
            "grid_auto_rows": null,
            "grid_column": null,
            "grid_gap": null,
            "grid_row": null,
            "grid_template_areas": null,
            "grid_template_columns": null,
            "grid_template_rows": null,
            "height": null,
            "justify_content": null,
            "justify_items": null,
            "left": null,
            "margin": null,
            "max_height": null,
            "max_width": null,
            "min_height": null,
            "min_width": null,
            "object_fit": null,
            "object_position": null,
            "order": null,
            "overflow": null,
            "overflow_x": null,
            "overflow_y": null,
            "padding": null,
            "right": null,
            "top": null,
            "visibility": null,
            "width": null
          }
        },
        "9721239f2a6846eda0d9e6ad42b6b3b6": {
          "model_module": "@jupyter-widgets/controls",
          "model_name": "HTMLModel",
          "state": {
            "_dom_classes": [],
            "_model_module": "@jupyter-widgets/controls",
            "_model_module_version": "1.5.0",
            "_model_name": "HTMLModel",
            "_view_count": null,
            "_view_module": "@jupyter-widgets/controls",
            "_view_module_version": "1.5.0",
            "_view_name": "HTMLView",
            "description": "",
            "description_tooltip": null,
            "layout": "IPY_MODEL_2a11c40768f9450d9e9cc7064c0726b4",
            "placeholder": "​",
            "style": "IPY_MODEL_d4a6239a56474131a1d51a3edfd2482f",
            "value": " 2827/2827 [02:40&lt;00:00, 17.60it/s]"
          }
        },
        "9962704806894217924c763b11da23cc": {
          "model_module": "@jupyter-widgets/base",
          "model_name": "LayoutModel",
          "state": {
            "_model_module": "@jupyter-widgets/base",
            "_model_module_version": "1.2.0",
            "_model_name": "LayoutModel",
            "_view_count": null,
            "_view_module": "@jupyter-widgets/base",
            "_view_module_version": "1.2.0",
            "_view_name": "LayoutView",
            "align_content": null,
            "align_items": null,
            "align_self": null,
            "border": null,
            "bottom": null,
            "display": null,
            "flex": null,
            "flex_flow": null,
            "grid_area": null,
            "grid_auto_columns": null,
            "grid_auto_flow": null,
            "grid_auto_rows": null,
            "grid_column": null,
            "grid_gap": null,
            "grid_row": null,
            "grid_template_areas": null,
            "grid_template_columns": null,
            "grid_template_rows": null,
            "height": null,
            "justify_content": null,
            "justify_items": null,
            "left": null,
            "margin": null,
            "max_height": null,
            "max_width": null,
            "min_height": null,
            "min_width": null,
            "object_fit": null,
            "object_position": null,
            "order": null,
            "overflow": null,
            "overflow_x": null,
            "overflow_y": null,
            "padding": null,
            "right": null,
            "top": null,
            "visibility": null,
            "width": null
          }
        },
        "a9241366f7a54c0e9777c535e277afa0": {
          "model_module": "@jupyter-widgets/controls",
          "model_name": "HBoxModel",
          "state": {
            "_dom_classes": [],
            "_model_module": "@jupyter-widgets/controls",
            "_model_module_version": "1.5.0",
            "_model_name": "HBoxModel",
            "_view_count": null,
            "_view_module": "@jupyter-widgets/controls",
            "_view_module_version": "1.5.0",
            "_view_name": "HBoxView",
            "box_style": "",
            "children": [
              "IPY_MODEL_1aaad1b031a8407687f9f897ee15afea",
              "IPY_MODEL_d82f969f48a04aa28c7302b781de980c"
            ],
            "layout": "IPY_MODEL_fba32fa94248423ba94d8f42f94f4083"
          }
        },
        "a987f678fcc245e7b07af7594d673fed": {
          "model_module": "@jupyter-widgets/controls",
          "model_name": "IntProgressModel",
          "state": {
            "_dom_classes": [],
            "_model_module": "@jupyter-widgets/controls",
            "_model_module_version": "1.5.0",
            "_model_name": "IntProgressModel",
            "_view_count": null,
            "_view_module": "@jupyter-widgets/controls",
            "_view_module_version": "1.5.0",
            "_view_name": "ProgressView",
            "bar_style": "success",
            "description": "100%",
            "description_tooltip": null,
            "layout": "IPY_MODEL_d7a50c9b7105481dbb8032539a8e6263",
            "max": 2827,
            "min": 0,
            "orientation": "horizontal",
            "style": "IPY_MODEL_ee229892c8034aa4af4df2977d1ff7de",
            "value": 2827
          }
        },
        "bae97fc93f3849b9a2b66c7bd8bec02c": {
          "model_module": "@jupyter-widgets/controls",
          "model_name": "HTMLModel",
          "state": {
            "_dom_classes": [],
            "_model_module": "@jupyter-widgets/controls",
            "_model_module_version": "1.5.0",
            "_model_name": "HTMLModel",
            "_view_count": null,
            "_view_module": "@jupyter-widgets/controls",
            "_view_module_version": "1.5.0",
            "_view_name": "HTMLView",
            "description": "",
            "description_tooltip": null,
            "layout": "IPY_MODEL_8588a5bb894c4cb08e5e94818d025412",
            "placeholder": "​",
            "style": "IPY_MODEL_5361d7548ff147b88c9cde7e38d8581f",
            "value": " 2827/2827 [00:00&lt;00:00, 11243.97it/s]"
          }
        },
        "bb1af8c1a2c64d389c30b04dcb520b07": {
          "model_module": "@jupyter-widgets/base",
          "model_name": "LayoutModel",
          "state": {
            "_model_module": "@jupyter-widgets/base",
            "_model_module_version": "1.2.0",
            "_model_name": "LayoutModel",
            "_view_count": null,
            "_view_module": "@jupyter-widgets/base",
            "_view_module_version": "1.2.0",
            "_view_name": "LayoutView",
            "align_content": null,
            "align_items": null,
            "align_self": null,
            "border": null,
            "bottom": null,
            "display": null,
            "flex": null,
            "flex_flow": null,
            "grid_area": null,
            "grid_auto_columns": null,
            "grid_auto_flow": null,
            "grid_auto_rows": null,
            "grid_column": null,
            "grid_gap": null,
            "grid_row": null,
            "grid_template_areas": null,
            "grid_template_columns": null,
            "grid_template_rows": null,
            "height": null,
            "justify_content": null,
            "justify_items": null,
            "left": null,
            "margin": null,
            "max_height": null,
            "max_width": null,
            "min_height": null,
            "min_width": null,
            "object_fit": null,
            "object_position": null,
            "order": null,
            "overflow": null,
            "overflow_x": null,
            "overflow_y": null,
            "padding": null,
            "right": null,
            "top": null,
            "visibility": null,
            "width": null
          }
        },
        "bf43d72799be463fac0c7ad948d54e1d": {
          "model_module": "@jupyter-widgets/controls",
          "model_name": "HTMLModel",
          "state": {
            "_dom_classes": [],
            "_model_module": "@jupyter-widgets/controls",
            "_model_module_version": "1.5.0",
            "_model_name": "HTMLModel",
            "_view_count": null,
            "_view_module": "@jupyter-widgets/controls",
            "_view_module_version": "1.5.0",
            "_view_name": "HTMLView",
            "description": "",
            "description_tooltip": null,
            "layout": "IPY_MODEL_d6182fdf5363467294214cfd47eaab00",
            "placeholder": "​",
            "style": "IPY_MODEL_46181fa072a84658baf65f45e4d5660e",
            "value": " 2827/2827 [00:51&lt;00:00, 54.58it/s]"
          }
        },
        "c49b45c8fe684b2f896dafb623b14811": {
          "model_module": "@jupyter-widgets/controls",
          "model_name": "HBoxModel",
          "state": {
            "_dom_classes": [],
            "_model_module": "@jupyter-widgets/controls",
            "_model_module_version": "1.5.0",
            "_model_name": "HBoxModel",
            "_view_count": null,
            "_view_module": "@jupyter-widgets/controls",
            "_view_module_version": "1.5.0",
            "_view_name": "HBoxView",
            "box_style": "",
            "children": [
              "IPY_MODEL_c5444dccd56d4ba499152efebae56bdf",
              "IPY_MODEL_d2d62acfe1bc46a4b70091a6bf0b6f62"
            ],
            "layout": "IPY_MODEL_58e6a45918d142c68e0aa7185f3feb6d"
          }
        },
        "c5444dccd56d4ba499152efebae56bdf": {
          "model_module": "@jupyter-widgets/controls",
          "model_name": "IntProgressModel",
          "state": {
            "_dom_classes": [],
            "_model_module": "@jupyter-widgets/controls",
            "_model_module_version": "1.5.0",
            "_model_name": "IntProgressModel",
            "_view_count": null,
            "_view_module": "@jupyter-widgets/controls",
            "_view_module_version": "1.5.0",
            "_view_name": "ProgressView",
            "bar_style": "success",
            "description": "100%",
            "description_tooltip": null,
            "layout": "IPY_MODEL_4195ca7e060841a8899fe61e87083994",
            "max": 2827,
            "min": 0,
            "orientation": "horizontal",
            "style": "IPY_MODEL_4210a9200a8340f6b284a56bea6c2463",
            "value": 2827
          }
        },
        "d2d62acfe1bc46a4b70091a6bf0b6f62": {
          "model_module": "@jupyter-widgets/controls",
          "model_name": "HTMLModel",
          "state": {
            "_dom_classes": [],
            "_model_module": "@jupyter-widgets/controls",
            "_model_module_version": "1.5.0",
            "_model_name": "HTMLModel",
            "_view_count": null,
            "_view_module": "@jupyter-widgets/controls",
            "_view_module_version": "1.5.0",
            "_view_name": "HTMLView",
            "description": "",
            "description_tooltip": null,
            "layout": "IPY_MODEL_188cf650f0c54db9a0bd3c7be39ebfe4",
            "placeholder": "​",
            "style": "IPY_MODEL_f6637a2778aa45a8a4cbef9113033bff",
            "value": " 2827/2827 [00:10&lt;00:00, 269.94it/s]"
          }
        },
        "d4a6239a56474131a1d51a3edfd2482f": {
          "model_module": "@jupyter-widgets/controls",
          "model_name": "DescriptionStyleModel",
          "state": {
            "_model_module": "@jupyter-widgets/controls",
            "_model_module_version": "1.5.0",
            "_model_name": "DescriptionStyleModel",
            "_view_count": null,
            "_view_module": "@jupyter-widgets/base",
            "_view_module_version": "1.2.0",
            "_view_name": "StyleView",
            "description_width": ""
          }
        },
        "d6182fdf5363467294214cfd47eaab00": {
          "model_module": "@jupyter-widgets/base",
          "model_name": "LayoutModel",
          "state": {
            "_model_module": "@jupyter-widgets/base",
            "_model_module_version": "1.2.0",
            "_model_name": "LayoutModel",
            "_view_count": null,
            "_view_module": "@jupyter-widgets/base",
            "_view_module_version": "1.2.0",
            "_view_name": "LayoutView",
            "align_content": null,
            "align_items": null,
            "align_self": null,
            "border": null,
            "bottom": null,
            "display": null,
            "flex": null,
            "flex_flow": null,
            "grid_area": null,
            "grid_auto_columns": null,
            "grid_auto_flow": null,
            "grid_auto_rows": null,
            "grid_column": null,
            "grid_gap": null,
            "grid_row": null,
            "grid_template_areas": null,
            "grid_template_columns": null,
            "grid_template_rows": null,
            "height": null,
            "justify_content": null,
            "justify_items": null,
            "left": null,
            "margin": null,
            "max_height": null,
            "max_width": null,
            "min_height": null,
            "min_width": null,
            "object_fit": null,
            "object_position": null,
            "order": null,
            "overflow": null,
            "overflow_x": null,
            "overflow_y": null,
            "padding": null,
            "right": null,
            "top": null,
            "visibility": null,
            "width": null
          }
        },
        "d7a50c9b7105481dbb8032539a8e6263": {
          "model_module": "@jupyter-widgets/base",
          "model_name": "LayoutModel",
          "state": {
            "_model_module": "@jupyter-widgets/base",
            "_model_module_version": "1.2.0",
            "_model_name": "LayoutModel",
            "_view_count": null,
            "_view_module": "@jupyter-widgets/base",
            "_view_module_version": "1.2.0",
            "_view_name": "LayoutView",
            "align_content": null,
            "align_items": null,
            "align_self": null,
            "border": null,
            "bottom": null,
            "display": null,
            "flex": null,
            "flex_flow": null,
            "grid_area": null,
            "grid_auto_columns": null,
            "grid_auto_flow": null,
            "grid_auto_rows": null,
            "grid_column": null,
            "grid_gap": null,
            "grid_row": null,
            "grid_template_areas": null,
            "grid_template_columns": null,
            "grid_template_rows": null,
            "height": null,
            "justify_content": null,
            "justify_items": null,
            "left": null,
            "margin": null,
            "max_height": null,
            "max_width": null,
            "min_height": null,
            "min_width": null,
            "object_fit": null,
            "object_position": null,
            "order": null,
            "overflow": null,
            "overflow_x": null,
            "overflow_y": null,
            "padding": null,
            "right": null,
            "top": null,
            "visibility": null,
            "width": null
          }
        },
        "d82f969f48a04aa28c7302b781de980c": {
          "model_module": "@jupyter-widgets/controls",
          "model_name": "HTMLModel",
          "state": {
            "_dom_classes": [],
            "_model_module": "@jupyter-widgets/controls",
            "_model_module_version": "1.5.0",
            "_model_name": "HTMLModel",
            "_view_count": null,
            "_view_module": "@jupyter-widgets/controls",
            "_view_module_version": "1.5.0",
            "_view_name": "HTMLView",
            "description": "",
            "description_tooltip": null,
            "layout": "IPY_MODEL_f53ef8691f4841bd993edf1d5cb27a6f",
            "placeholder": "​",
            "style": "IPY_MODEL_813225ecb8294e4b841d299ec536229e",
            "value": " 2827/2827 [03:02&lt;00:00, 15.46it/s]"
          }
        },
        "ee229892c8034aa4af4df2977d1ff7de": {
          "model_module": "@jupyter-widgets/controls",
          "model_name": "ProgressStyleModel",
          "state": {
            "_model_module": "@jupyter-widgets/controls",
            "_model_module_version": "1.5.0",
            "_model_name": "ProgressStyleModel",
            "_view_count": null,
            "_view_module": "@jupyter-widgets/base",
            "_view_module_version": "1.2.0",
            "_view_name": "StyleView",
            "bar_color": null,
            "description_width": "initial"
          }
        },
        "f475202a9be4403bb8cfb9b5be57359e": {
          "model_module": "@jupyter-widgets/controls",
          "model_name": "HBoxModel",
          "state": {
            "_dom_classes": [],
            "_model_module": "@jupyter-widgets/controls",
            "_model_module_version": "1.5.0",
            "_model_name": "HBoxModel",
            "_view_count": null,
            "_view_module": "@jupyter-widgets/controls",
            "_view_module_version": "1.5.0",
            "_view_name": "HBoxView",
            "box_style": "",
            "children": [
              "IPY_MODEL_a987f678fcc245e7b07af7594d673fed",
              "IPY_MODEL_bae97fc93f3849b9a2b66c7bd8bec02c"
            ],
            "layout": "IPY_MODEL_bb1af8c1a2c64d389c30b04dcb520b07"
          }
        },
        "f53ef8691f4841bd993edf1d5cb27a6f": {
          "model_module": "@jupyter-widgets/base",
          "model_name": "LayoutModel",
          "state": {
            "_model_module": "@jupyter-widgets/base",
            "_model_module_version": "1.2.0",
            "_model_name": "LayoutModel",
            "_view_count": null,
            "_view_module": "@jupyter-widgets/base",
            "_view_module_version": "1.2.0",
            "_view_name": "LayoutView",
            "align_content": null,
            "align_items": null,
            "align_self": null,
            "border": null,
            "bottom": null,
            "display": null,
            "flex": null,
            "flex_flow": null,
            "grid_area": null,
            "grid_auto_columns": null,
            "grid_auto_flow": null,
            "grid_auto_rows": null,
            "grid_column": null,
            "grid_gap": null,
            "grid_row": null,
            "grid_template_areas": null,
            "grid_template_columns": null,
            "grid_template_rows": null,
            "height": null,
            "justify_content": null,
            "justify_items": null,
            "left": null,
            "margin": null,
            "max_height": null,
            "max_width": null,
            "min_height": null,
            "min_width": null,
            "object_fit": null,
            "object_position": null,
            "order": null,
            "overflow": null,
            "overflow_x": null,
            "overflow_y": null,
            "padding": null,
            "right": null,
            "top": null,
            "visibility": null,
            "width": null
          }
        },
        "f6637a2778aa45a8a4cbef9113033bff": {
          "model_module": "@jupyter-widgets/controls",
          "model_name": "DescriptionStyleModel",
          "state": {
            "_model_module": "@jupyter-widgets/controls",
            "_model_module_version": "1.5.0",
            "_model_name": "DescriptionStyleModel",
            "_view_count": null,
            "_view_module": "@jupyter-widgets/base",
            "_view_module_version": "1.2.0",
            "_view_name": "StyleView",
            "description_width": ""
          }
        },
        "fba32fa94248423ba94d8f42f94f4083": {
          "model_module": "@jupyter-widgets/base",
          "model_name": "LayoutModel",
          "state": {
            "_model_module": "@jupyter-widgets/base",
            "_model_module_version": "1.2.0",
            "_model_name": "LayoutModel",
            "_view_count": null,
            "_view_module": "@jupyter-widgets/base",
            "_view_module_version": "1.2.0",
            "_view_name": "LayoutView",
            "align_content": null,
            "align_items": null,
            "align_self": null,
            "border": null,
            "bottom": null,
            "display": null,
            "flex": null,
            "flex_flow": null,
            "grid_area": null,
            "grid_auto_columns": null,
            "grid_auto_flow": null,
            "grid_auto_rows": null,
            "grid_column": null,
            "grid_gap": null,
            "grid_row": null,
            "grid_template_areas": null,
            "grid_template_columns": null,
            "grid_template_rows": null,
            "height": null,
            "justify_content": null,
            "justify_items": null,
            "left": null,
            "margin": null,
            "max_height": null,
            "max_width": null,
            "min_height": null,
            "min_width": null,
            "object_fit": null,
            "object_position": null,
            "order": null,
            "overflow": null,
            "overflow_x": null,
            "overflow_y": null,
            "padding": null,
            "right": null,
            "top": null,
            "visibility": null,
            "width": null
          }
        }
      }
    }
  },
  "nbformat": 4,
  "nbformat_minor": 0
}
