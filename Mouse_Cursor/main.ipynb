{
 "cells": [
  {
   "cell_type": "code",
   "execution_count": null,
   "id": "0135a895",
   "metadata": {},
   "outputs": [],
   "source": [
    "pip install opencv-python cvzone autopy numpy\n"
   ]
  },
  {
   "cell_type": "code",
   "execution_count": null,
   "id": "9b61b269",
   "metadata": {},
   "outputs": [],
   "source": [
    "import cv2\n",
    "import numpy as np\n",
    "import autopy\n",
    "from cvzone.HandTrackingModule import HandDetector\n",
    "import time"
   ]
  },
  {
   "cell_type": "code",
   "execution_count": null,
   "id": "96bafd3c",
   "metadata": {},
   "outputs": [],
   "source": [
    "# Initialize webcam\n",
    "cap = cv2.VideoCapture(0)\n",
    "cap.set(3, 640)\n",
    "cap.set(4, 480)"
   ]
  },
  {
   "cell_type": "code",
   "execution_count": null,
   "id": "24530185",
   "metadata": {},
   "outputs": [],
   "source": [
    "# Initialize hand detector\n",
    "detector = HandDetector(detectionCon=0.8, maxHands=1)\n",
    "\n",
    "# Get screen size\n",
    "screen_w, screen_h = autopy.screen.size()\n",
    "\n",
    "# Click state to avoid continuous clicking\n",
    "click_down = False\n",
    "\n",
    "# Smoothening parameters\n",
    "plocX, plocY = 0, 0\n",
    "clocX, clocY = 0, 0\n",
    "smoothening = 7"
   ]
  },
  {
   "cell_type": "code",
   "execution_count": null,
   "id": "d0e52931",
   "metadata": {},
   "outputs": [],
   "source": [
    "while True:\n",
    "    success, img = cap.read()\n",
    "    img = cv2.flip(img, 1)\n",
    "    hands, img = detector.findHands(img, flipType=False)\n",
    "    if hands:\n",
    "        hand = hands[0]\n",
    "        lmList = hand[\"lmList\"]\n",
    "        x1, y1 = lmList[8][0], lmList[8][1]   \n",
    "        x2, y2 = lmList[6][0], lmList[6][1]   \n",
    "        cv2.circle(img, (x1, y1), 10, (255, 0, 255), cv2.FILLED)\n",
    "        cv2.circle(img, (x2, y2), 10, (255, 0, 255), cv2.FILLED)\n",
    "        cv2.line(img, (x1, y1), (x2, y2), (255, 0, 255), 3)\n",
    "        screen_x = np.interp(x1, [100, 540], [0, screen_w])\n",
    "        screen_y = np.interp(y1, [100, 380], [0, screen_h])\n",
    "        clocX = plocX + (screen_x - plocX) / smoothening\n",
    "        clocY = plocY + (screen_y - plocY) / smoothening\n",
    "        clocX = max(0, min(screen_w - 1, clocX))\n",
    "        clocY = max(0, min(screen_h - 1, clocY))\n",
    "        autopy.mouse.move(clocX, clocY)\n",
    "        plocX, plocY = clocX, clocY\n",
    "        if y1 > y2 + 20:  \n",
    "            if not click_down:\n",
    "                autopy.mouse.click()\n",
    "                click_down = True\n",
    "                cv2.circle(img, (x1, y1), 15, (0, 255, 0), cv2.FILLED)\n",
    "                cv2.putText(img, \"Click!\", (x1+20, y1), cv2.FONT_HERSHEY_SIMPLEX, 1, (0,255,0), 3)\n",
    "        else:\n",
    "            click_down = False\n",
    "    cv2.putText(img, \"Virtual Mouse | Bend index finger to click | 'q' to quit\", (10, 30),\n",
    "                cv2.FONT_HERSHEY_SIMPLEX, 0.6, (255, 255, 255), 2)\n",
    "    \n",
    "    cv2.imshow(\"Virtual Mouse\", img)\n",
    "    \n",
    "    key = cv2.waitKey(1)\n",
    "    if key == ord('q'):\n",
    "        break\n",
    "cap.release()\n",
    "cv2.destroyAllWindows()\n"
   ]
  }
 ],
 "metadata": {
  "kernelspec": {
   "display_name": "Python 3",
   "language": "python",
   "name": "python3"
  },
  "language_info": {
   "codemirror_mode": {
    "name": "ipython",
    "version": 3
   },
   "file_extension": ".py",
   "mimetype": "text/x-python",
   "name": "python",
   "nbconvert_exporter": "python",
   "pygments_lexer": "ipython3",
   "version": "3.9.6"
  }
 },
 "nbformat": 4,
 "nbformat_minor": 5
}
