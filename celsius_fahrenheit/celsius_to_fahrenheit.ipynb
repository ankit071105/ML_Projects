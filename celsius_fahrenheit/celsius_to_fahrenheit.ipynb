{
  "cells": [
    {
      "cell_type": "code",
      "execution_count": 4,
      "metadata": {
        "id": "-ZMgCvSRFqxE"
      },
      "outputs": [],
      "source": [
        "import tensorflow as tf"
      ]
    },
    {
      "cell_type": "code",
      "execution_count": 5,
      "metadata": {
        "id": "y_WQEM5MGmg3"
      },
      "outputs": [],
      "source": [
        "import numpy as np\n",
        "import logging\n",
        "logger = tf.get_logger()\n",
        "logger.setLevel(logging.ERROR)"
      ]
    },
    {
      "cell_type": "code",
      "execution_count": 6,
      "metadata": {
        "id": "gg4pn6aI1vms",
        "outputId": "77bcccd3-cfcd-429a-c575-fe5c25c3b02e",
        "colab": {
          "base_uri": "https://localhost:8080/"
        }
      },
      "outputs": [
        {
          "output_type": "stream",
          "name": "stdout",
          "text": [
            "-40.0 degrees Celsius = -40.0 degrees Fahrenheit\n",
            "-10.0 degrees Celsius = 14.0 degrees Fahrenheit\n",
            "0.0 degrees Celsius = 32.0 degrees Fahrenheit\n",
            "8.0 degrees Celsius = 46.0 degrees Fahrenheit\n",
            "15.0 degrees Celsius = 59.0 degrees Fahrenheit\n",
            "22.0 degrees Celsius = 72.0 degrees Fahrenheit\n",
            "38.0 degrees Celsius = 100.0 degrees Fahrenheit\n"
          ]
        }
      ],
      "source": [
        "celsius_q    = np.array([-40, -10,  0,  8, 15, 22,  38],  dtype=float)\n",
        "fahrenheit_a = np.array([-40,  14, 32, 46, 59, 72, 100],  dtype=float)\n",
        "\n",
        "for i,c in enumerate(celsius_q):\n",
        "  print(\"{} degrees Celsius = {} degrees Fahrenheit\".format(c, fahrenheit_a[i]))"
      ]
    },
    {
      "cell_type": "code",
      "execution_count": 7,
      "metadata": {
        "id": "pRllo2HLfXiu"
      },
      "outputs": [],
      "source": [
        "l0 = tf.keras.layers.Dense(units=1, input_shape=[1])"
      ]
    },
    {
      "cell_type": "code",
      "execution_count": 8,
      "metadata": {
        "id": "cSp-GpLSuMRq"
      },
      "outputs": [],
      "source": [
        "model = tf.keras.Sequential([l0])"
      ]
    },
    {
      "cell_type": "code",
      "execution_count": 9,
      "metadata": {
        "id": "m8YQN1H41L-Y"
      },
      "outputs": [],
      "source": [
        "model.compile(loss='mean_squared_error',\n",
        "              optimizer=tf.keras.optimizers.Adam(0.1))"
      ]
    },
    {
      "cell_type": "code",
      "execution_count": 10,
      "metadata": {
        "id": "lpRrl7WK10Pq",
        "outputId": "a32d9f04-50a3-4785-9afa-03a77f749fc0",
        "colab": {
          "base_uri": "https://localhost:8080/"
        }
      },
      "outputs": [
        {
          "output_type": "stream",
          "name": "stdout",
          "text": [
            "Finished training the model\n"
          ]
        }
      ],
      "source": [
        "history = model.fit(celsius_q, fahrenheit_a, epochs=500, verbose=False)\n",
        "print(\"Finished training the model\")"
      ]
    },
    {
      "cell_type": "code",
      "execution_count": 11,
      "metadata": {
        "id": "IeK6BzfbdO6_",
        "outputId": "c88063e7-b515-4002-9b48-aae11f7c890a",
        "colab": {
          "base_uri": "https://localhost:8080/",
          "height": 467
        }
      },
      "outputs": [
        {
          "output_type": "execute_result",
          "data": {
            "text/plain": [
              "[<matplotlib.lines.Line2D at 0x7c37145d36d0>]"
            ]
          },
          "metadata": {},
          "execution_count": 11
        },
        {
          "output_type": "display_data",
          "data": {
            "text/plain": [
              "<Figure size 640x480 with 1 Axes>"
            ],
            "image/png": "[encoded data removed]"
          },
          "metadata": {}
        }
      ],
      "source": [
        "import matplotlib.pyplot as plt\n",
        "plt.xlabel('Epoch Number')\n",
        "plt.ylabel(\"Loss Magnitude\")\n",
        "plt.plot(history.history['loss'])"
      ]
    },
    {
      "cell_type": "code",
      "execution_count": 12,
      "metadata": {
        "id": "oxNzL4lS2Gui",
        "outputId": "3bd013c8-451b-489a-ce62-08fca11a1462",
        "colab": {
          "base_uri": "https://localhost:8080/"
        }
      },
      "outputs": [
        {
          "output_type": "stream",
          "name": "stdout",
          "text": [
            "\u001b[1m1/1\u001b[0m \u001b[32m━━━━━━━━━━━━━━━━━━━━\u001b[0m\u001b[37m\u001b[0m \u001b[1m0s\u001b[0m 81ms/step\n",
            "[[211.2989]\n",
            " [393.8795]\n",
            " [576.4601]]\n"
          ]
        }
      ],
      "source": [
        "print(model.predict(np.array([[100.0], [200.0], [300.0]])))"
      ]
    },
    {
      "cell_type": "code",
      "execution_count": 13,
      "metadata": {
        "id": "kmIkVdkbnZJI",
        "outputId": "10d54704-0781-4486-ae09-d64093b85e31",
        "colab": {
          "base_uri": "https://localhost:8080/"
        }
      },
      "outputs": [
        {
          "output_type": "stream",
          "name": "stdout",
          "text": [
            "These are the layer variables: [array([[1.8258058]], dtype=float32), array([28.718327], dtype=float32)]\n"
          ]
        }
      ],
      "source": [
        "print(\"These are the layer variables: {}\".format(l0.get_weights()))"
      ]
    },
    {
      "cell_type": "code",
      "execution_count": 15,
      "metadata": {
        "id": "Y2zTA-rDS5Xk",
        "outputId": "f1323e38-4747-4b5d-ce82-8d84a34f9150",
        "colab": {
          "base_uri": "https://localhost:8080/"
        }
      },
      "outputs": [
        {
          "output_type": "stream",
          "name": "stdout",
          "text": [
            "Finished training the model\n",
            "\u001b[1m1/1\u001b[0m \u001b[32m━━━━━━━━━━━━━━━━━━━━\u001b[0m\u001b[37m\u001b[0m \u001b[1m0s\u001b[0m 79ms/step\n",
            "Prediction for 100°C: 211.7474 °F\n",
            "Model predicts that 100 degrees Celsius is: 211.7474 degrees Fahrenheit\n",
            "These are the l0 variables: [array([[-0.11298127,  0.05466754,  0.3553594 , -1.0320793 ]],\n",
            "      dtype=float32), array([-2.4319565,  3.0832026, -1.999496 , -3.5172098], dtype=float32)]\n",
            "These are the l1 variables: [array([[-0.20942725, -0.45435372,  0.40218872,  1.5573798 ],\n",
            "       [ 0.06892635,  0.1969825 , -0.32504445, -1.1941546 ],\n",
            "       [-0.60831755, -0.66029936,  0.11252789,  0.9263708 ],\n",
            "       [-1.2694298 , -0.9221182 ,  1.5136783 ,  0.35066965]],\n",
            "      dtype=float32), array([ 1.9490947,  1.7827961, -3.4114351, -3.46338  ], dtype=float32)]\n",
            "These are the l2 variables: [array([[ 0.20642863],\n",
            "       [ 0.13439614],\n",
            "       [-0.6949445 ],\n",
            "       [-1.3138279 ]], dtype=float32), array([3.1245437], dtype=float32)]\n"
          ]
        }
      ],
      "source": [
        "import tensorflow as tf\n",
        "import numpy as np  # Required for array conversion\n",
        "\n",
        "# Define and compile the model\n",
        "l0 = tf.keras.layers.Dense(units=4, input_shape=[1])\n",
        "l1 = tf.keras.layers.Dense(units=4)\n",
        "l2 = tf.keras.layers.Dense(units=1)\n",
        "model = tf.keras.Sequential([l0, l1, l2])\n",
        "model.compile(loss='mean_squared_error', optimizer=tf.keras.optimizers.Adam(0.1))\n",
        "\n",
        "# Example training data (replace with your actual data)\n",
        "celsius_q = np.array([-40, -10, 0, 8, 15, 22, 38], dtype=float)\n",
        "fahrenheit_a = np.array([-40, 14, 32, 46, 59, 72, 100], dtype=float)\n",
        "\n",
        "# Train the model\n",
        "model.fit(celsius_q, fahrenheit_a, epochs=500, verbose=False)\n",
        "print(\"Finished training the model\")\n",
        "\n",
        "# Correct way to predict (convert to NumPy array and reshape)\n",
        "input_value = np.array([100.0]).reshape(-1, 1)  # Shape: (1, 1) for batch prediction\n",
        "prediction = model.predict(input_value)\n",
        "\n",
        "print(\"Prediction for 100°C:\", prediction[0][0], \"°F\")\n",
        "print(\"Model predicts that 100 degrees Celsius is:\", prediction[0][0], \"degrees Fahrenheit\")\n",
        "\n",
        "# Print layer weights\n",
        "print(\"These are the l0 variables:\", l0.get_weights())\n",
        "print(\"These are the l1 variables:\", l1.get_weights())\n",
        "print(\"These are the l2 variables:\", l2.get_weights())"
      ]
    }
  ],
  "metadata": {
    "colab": {
      "name": "l02c01_celsius_to_fahrenheit.ipynb",
      "toc_visible": true,
      "provenance": []
    },
    "kernelspec": {
      "display_name": "Python 3",
      "name": "python3"
    }
  },
  "nbformat": 4,
  "nbformat_minor": 0
}