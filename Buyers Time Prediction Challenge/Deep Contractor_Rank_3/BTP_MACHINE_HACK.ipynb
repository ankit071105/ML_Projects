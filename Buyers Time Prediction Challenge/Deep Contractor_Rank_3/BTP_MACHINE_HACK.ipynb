{
  "nbformat": 4,
  "nbformat_minor": 0,
  "metadata": {
    "colab": {
      "name": "BTP MACHINE HACK.ipynb",
      "provenance": [],
      "collapsed_sections": []
    },
    "kernelspec": {
      "name": "python3",
      "display_name": "Python 3"
    }
  },
  "cells": [
    {
      "cell_type": "markdown",
      "metadata": {
        "id": "uRUGa29YOROI"
      },
      "source": [
        "Submission By : Deep Contractor\r\n",
        "\r\n",
        "Email : deep.contractor88@gmail.com\r\n",
        "\r\n",
        "Linkedin : https://www.linkedin.com/in/deep-contractor-85b508168/"
      ]
    },
    {
      "cell_type": "markdown",
      "metadata": {
        "id": "NJXwgaiCWRBx"
      },
      "source": [
        "# IMPORT LIBRARIES"
      ]
    },
    {
      "cell_type": "code",
      "metadata": {
        "id": "blDwyxKmYS6X"
      },
      "source": [
        "import pandas as pd\r\n",
        "import numpy as np\r\n",
        "import matplotlib.pyplot as plt\r\n",
        "import seaborn as sns\r\n",
        "import random\r\n",
        "import datetime\r\n",
        "%matplotlib inline"
      ],
      "execution_count": 38,
      "outputs": []
    },
    {
      "cell_type": "markdown",
      "metadata": {
        "id": "uNqjjsd9WWQA"
      },
      "source": [
        "# IMPORTING DATA"
      ]
    },
    {
      "cell_type": "code",
      "metadata": {
        "id": "5aoA97f5Yitd"
      },
      "source": [
        "testdata = pd.read_csv('/content/drive/MyDrive/Data/ParticipantData_BTPC/Test.csv')\r\n",
        "traindata = pd.read_csv('/content/drive/MyDrive/Data/ParticipantData_BTPC/Train.csv')\r\n",
        "sampledata = ('/content/drive/MyDrive/Data/ParticipantData_BTPC/Sample Submission.csv')"
      ],
      "execution_count": 39,
      "outputs": []
    },
    {
      "cell_type": "code",
      "metadata": {
        "colab": {
          "base_uri": "https://localhost:8080/",
          "height": 195
        },
        "id": "vbxLpy-gYmIH",
        "outputId": "cad4b016-8b3a-4ae9-f29e-ff802b5b9910"
      },
      "source": [
        "traindata.head()"
      ],
      "execution_count": 40,
      "outputs": [
        {
          "output_type": "execute_result",
          "data": {
            "text/html": [
              "<div>\n",
              "<style scoped>\n",
              "    .dataframe tbody tr th:only-of-type {\n",
              "        vertical-align: middle;\n",
              "    }\n",
              "\n",
              "    .dataframe tbody tr th {\n",
              "        vertical-align: top;\n",
              "    }\n",
              "\n",
              "    .dataframe thead th {\n",
              "        text-align: right;\n",
              "    }\n",
              "</style>\n",
              "<table border=\"1\" class=\"dataframe\">\n",
              "  <thead>\n",
              "    <tr style=\"text-align: right;\">\n",
              "      <th></th>\n",
              "      <th>session_id</th>\n",
              "      <th>session_number</th>\n",
              "      <th>client_agent</th>\n",
              "      <th>device_details</th>\n",
              "      <th>date</th>\n",
              "      <th>purchased</th>\n",
              "      <th>added_in_cart</th>\n",
              "      <th>checked_out</th>\n",
              "      <th>time_spent</th>\n",
              "    </tr>\n",
              "  </thead>\n",
              "  <tbody>\n",
              "    <tr>\n",
              "      <th>0</th>\n",
              "      <td>57f879e70d3c5fc2a98102d64c9fd84e</td>\n",
              "      <td>715</td>\n",
              "      <td>Mozilla/5.0 (Windows NT 6.1; WOW64) AppleWebKi...</td>\n",
              "      <td>Desktop - Chrome</td>\n",
              "      <td>2020-01-22</td>\n",
              "      <td>1</td>\n",
              "      <td>0</td>\n",
              "      <td>0</td>\n",
              "      <td>236.886</td>\n",
              "    </tr>\n",
              "    <tr>\n",
              "      <th>1</th>\n",
              "      <td>a5442b0c7c33d0a811e7661e556b2de8</td>\n",
              "      <td>55</td>\n",
              "      <td>Product/8.0 iPhone/8.1.3</td>\n",
              "      <td>iPhone - iOS</td>\n",
              "      <td>2020-02-27</td>\n",
              "      <td>1</td>\n",
              "      <td>0</td>\n",
              "      <td>0</td>\n",
              "      <td>1277.455</td>\n",
              "    </tr>\n",
              "    <tr>\n",
              "      <th>2</th>\n",
              "      <td>305cb1486ed8610c00b37007926cb2c4</td>\n",
              "      <td>11</td>\n",
              "      <td>Mozilla/5.0 (iPhone; CPU iPhone OS 7_1_2 like ...</td>\n",
              "      <td>iPhone - MobileWeb</td>\n",
              "      <td>2019-08-01</td>\n",
              "      <td>0</td>\n",
              "      <td>0</td>\n",
              "      <td>0</td>\n",
              "      <td>21.704</td>\n",
              "    </tr>\n",
              "    <tr>\n",
              "      <th>3</th>\n",
              "      <td>f2c1ecc9993f0071df91ba178450498c</td>\n",
              "      <td>2794</td>\n",
              "      <td>Mozilla/5.0 (compatible; MSIE 9.0; Windows NT ...</td>\n",
              "      <td>Desktop - IE</td>\n",
              "      <td>2019-12-30</td>\n",
              "      <td>0</td>\n",
              "      <td>1</td>\n",
              "      <td>0</td>\n",
              "      <td>455.201</td>\n",
              "    </tr>\n",
              "    <tr>\n",
              "      <th>4</th>\n",
              "      <td>e460830ae295e55d2216ebdc761ab9a6</td>\n",
              "      <td>3674</td>\n",
              "      <td>Mozilla/5.0 (iPhone; CPU iPhone OS 7_1_1 like ...</td>\n",
              "      <td>iPhone - Web</td>\n",
              "      <td>2019-09-10</td>\n",
              "      <td>0</td>\n",
              "      <td>0</td>\n",
              "      <td>0</td>\n",
              "      <td>1164.877</td>\n",
              "    </tr>\n",
              "  </tbody>\n",
              "</table>\n",
              "</div>"
            ],
            "text/plain": [
              "                         session_id  session_number  ... checked_out time_spent\n",
              "0  57f879e70d3c5fc2a98102d64c9fd84e             715  ...           0    236.886\n",
              "1  a5442b0c7c33d0a811e7661e556b2de8              55  ...           0   1277.455\n",
              "2  305cb1486ed8610c00b37007926cb2c4              11  ...           0     21.704\n",
              "3  f2c1ecc9993f0071df91ba178450498c            2794  ...           0    455.201\n",
              "4  e460830ae295e55d2216ebdc761ab9a6            3674  ...           0   1164.877\n",
              "\n",
              "[5 rows x 9 columns]"
            ]
          },
          "metadata": {
            "tags": []
          },
          "execution_count": 40
        }
      ]
    },
    {
      "cell_type": "code",
      "metadata": {
        "colab": {
          "base_uri": "https://localhost:8080/"
        },
        "id": "YOpKnWOEYppY",
        "outputId": "a16a6020-ac9f-4b40-a8f1-48d69879fd23"
      },
      "source": [
        "mergedf = traindata.append(testdata)\r\n",
        "mergedf = mergedf.reset_index(drop=True)\r\n",
        "mergedf = mergedf.fillna('0')\r\n",
        "mergedf.shape"
      ],
      "execution_count": 41,
      "outputs": [
        {
          "output_type": "execute_result",
          "data": {
            "text/plain": [
              "(7756, 9)"
            ]
          },
          "metadata": {
            "tags": []
          },
          "execution_count": 41
        }
      ]
    },
    {
      "cell_type": "markdown",
      "metadata": {
        "id": "yuimzWxGWaEa"
      },
      "source": [
        "# FEATURE ENGINEERING"
      ]
    },
    {
      "cell_type": "code",
      "metadata": {
        "id": "dnuqFQQAY7Om"
      },
      "source": [
        "def device_used(df):\r\n",
        "    mergedf['device_used'] = np.nan\r\n",
        "    for i in range(len(mergedf)):\r\n",
        "        check = mergedf.loc[i,'device_details']\r\n",
        "        if('Tablet' in check):\r\n",
        "            mergedf.loc[i,'device_used'] = 'Tablet'\r\n",
        "        elif('iPad' in check):\r\n",
        "            mergedf.loc[i,'device_used'] = 'Tablet'\r\n",
        "        elif('Desktop' in check):\r\n",
        "            mergedf.loc[i,'device_used'] = 'Desktop'\r\n",
        "        elif('iPhone' in check):\r\n",
        "            mergedf.loc[i,'device_used'] = 'Smartphone'\r\n",
        "        elif('Android' in check):\r\n",
        "            mergedf.loc[i,'device_used'] = 'Smartphone'\r\n",
        "        elif('Unknown' in check):\r\n",
        "            mergedf.loc[i,'device_used'] = 'Smartphone'\r\n",
        "        elif('Other' in check):\r\n",
        "            mergedf.loc[i,'device_used'] = 'Others'\r\n",
        "    return df\r\n",
        "\r\n",
        "def medium_used(df):\r\n",
        "    mergedf['medium_used'] = np.nan\r\n",
        "    for i in range(len(mergedf)):\r\n",
        "        check = mergedf.loc[i,'device_details']\r\n",
        "        if('Desktop - Chrome' == check):\r\n",
        "            mergedf.loc[i,'medium_used'] = 'Chrome'\r\n",
        "        elif('iPhone - iOS' == check):\r\n",
        "            mergedf.loc[i,'medium_used'] = 'Application'\r\n",
        "        elif('iPhone - MobileWeb' == check):\r\n",
        "            mergedf.loc[i,'medium_used'] = 'MobileWeb'\r\n",
        "        elif('Desktop - IE' == check):\r\n",
        "            mergedf.loc[i,'medium_used'] = 'IE'\r\n",
        "        elif('iPhone - Web' == check):\r\n",
        "            mergedf.loc[i,'medium_used'] = 'Safari'\r\n",
        "        elif('Android Phone - Android' == check):\r\n",
        "            mergedf.loc[i,'medium_used'] = 'Application'\r\n",
        "        elif('Desktop - Firefox' == check):\r\n",
        "            mergedf.loc[i,'medium_used'] = 'Firefox'\r\n",
        "        elif('Android Tablet - Web' == check):\r\n",
        "            mergedf.loc[i,'medium_used'] = 'MobileWeb'\r\n",
        "        elif('iPad - Web' == check):\r\n",
        "            mergedf.loc[i,'medium_used'] = 'MobileWeb'\r\n",
        "        elif('Other - Other' == check):\r\n",
        "            mergedf.loc[i,'medium_used'] = 'Others'\r\n",
        "        elif('Desktop - Safari' == check):\r\n",
        "            mergedf.loc[i,'medium_used'] = 'Safari'\r\n",
        "        elif('Android Phone - Web' == check):\r\n",
        "            mergedf.loc[i,'medium_used'] = 'MobileWeb'\r\n",
        "        elif('iPad - iOS' == check):\r\n",
        "            mergedf.loc[i,'medium_used'] = 'Application'\r\n",
        "        elif('Android Phone - MobileWeb' == check):\r\n",
        "            mergedf.loc[i,'medium_used'] = 'MobileWeb'\r\n",
        "        elif('Unknown - MobileWeb' == check):\r\n",
        "            mergedf.loc[i,'medium_used'] = 'MobileWeb'\r\n",
        "        elif('Android Tablet - Android' == check):\r\n",
        "            mergedf.loc[i,'medium_used'] = 'Application'\r\n",
        "        elif('Android Tablet - MobileWeb' == check):\r\n",
        "            mergedf.loc[i,'medium_used'] = 'MobileWeb'\r\n",
        "    return df\r\n",
        "\r\n",
        "def os_used(df):\r\n",
        "    mergedf['os_used'] = np.nan\r\n",
        "    for i in range(len(mergedf)):\r\n",
        "        check = mergedf.loc[i,'device_details']\r\n",
        "        if('Desktop - Chrome' == check):\r\n",
        "            mergedf.loc[i,'os_used'] = 'Windows'\r\n",
        "        elif('iPhone - iOS' == check):\r\n",
        "            mergedf.loc[i,'os_used'] = 'ios'\r\n",
        "        elif('iPhone - MobileWeb' == check):\r\n",
        "            mergedf.loc[i,'os_used'] = 'ios'\r\n",
        "        elif('Desktop - IE' == check):\r\n",
        "            mergedf.loc[i,'os_used'] = 'Windows'\r\n",
        "        elif('iPhone - Web' == check):\r\n",
        "            mergedf.loc[i,'os_used'] = 'ios'\r\n",
        "        elif('Android Phone - Android' == check):\r\n",
        "            mergedf.loc[i,'os_used'] = 'Android'\r\n",
        "        elif('Desktop - Firefox' == check):\r\n",
        "            mergedf.loc[i,'os_used'] = 'Windows'\r\n",
        "        elif('Android Tablet - Web' == check):\r\n",
        "            mergedf.loc[i,'os_used'] = 'Android'\r\n",
        "        elif('iPad - Web' == check):\r\n",
        "            mergedf.loc[i,'os_used'] = 'ios'\r\n",
        "        elif('Other - Other' == check):\r\n",
        "            mergedf.loc[i,'os_used'] = 'Others'\r\n",
        "        elif('Desktop - Safari' == check):\r\n",
        "            mergedf.loc[i,'os_used'] = 'MacOS'\r\n",
        "        elif('Android Phone - Web' == check):\r\n",
        "            mergedf.loc[i,'os_used'] = 'Android'\r\n",
        "        elif('iPad - iOS' == check):\r\n",
        "            mergedf.loc[i,'os_used'] = 'ios'\r\n",
        "        elif('Android Phone - MobileWeb' == check):\r\n",
        "            mergedf.loc[i,'os_used'] = 'Android'\r\n",
        "        elif('Unknown - MobileWeb' == check):\r\n",
        "            mergedf.loc[i,'os_used'] = 'Unknown'\r\n",
        "        elif('Android Tablet - Android' == check):\r\n",
        "            mergedf.loc[i,'os_used'] = 'Android'\r\n",
        "        elif('Android Tablet - MobileWeb' == check):\r\n",
        "            mergedf.loc[i,'os_used'] = 'Android'\r\n",
        "    return df"
      ],
      "execution_count": 42,
      "outputs": []
    },
    {
      "cell_type": "code",
      "metadata": {
        "id": "7C9TEotHdNHP"
      },
      "source": [
        "mergedf = medium_used(mergedf)\r\n",
        "mergedf = device_used(mergedf)\r\n",
        "mergedf = os_used(mergedf)"
      ],
      "execution_count": 43,
      "outputs": []
    },
    {
      "cell_type": "code",
      "metadata": {
        "colab": {
          "base_uri": "https://localhost:8080/"
        },
        "id": "C-BPr2k8zt_s",
        "outputId": "1fa31be0-1924-4e26-dd47-d0a453d6cc2a"
      },
      "source": [
        "mergedf.device_used.value_counts()"
      ],
      "execution_count": 44,
      "outputs": [
        {
          "output_type": "execute_result",
          "data": {
            "text/plain": [
              "Smartphone    4260\n",
              "Desktop       2380\n",
              "Tablet         849\n",
              "Others         267\n",
              "Name: device_used, dtype: int64"
            ]
          },
          "metadata": {
            "tags": []
          },
          "execution_count": 44
        }
      ]
    },
    {
      "cell_type": "code",
      "metadata": {
        "colab": {
          "base_uri": "https://localhost:8080/"
        },
        "id": "rbgwFEVOzh1y",
        "outputId": "8b080a6d-d7c2-4293-da17-9f2d28edb063"
      },
      "source": [
        "mergedf.os_used.value_counts()"
      ],
      "execution_count": 45,
      "outputs": [
        {
          "output_type": "execute_result",
          "data": {
            "text/plain": [
              "ios        4037\n",
              "Windows    1937\n",
              "Android     950\n",
              "MacOS       443\n",
              "Others      267\n",
              "Unknown     122\n",
              "Name: os_used, dtype: int64"
            ]
          },
          "metadata": {
            "tags": []
          },
          "execution_count": 45
        }
      ]
    },
    {
      "cell_type": "code",
      "metadata": {
        "colab": {
          "base_uri": "https://localhost:8080/"
        },
        "id": "XtZoPJA-vhgi",
        "outputId": "eedb9f3a-e85c-4b65-8e3d-2a4d97c07984"
      },
      "source": [
        "mergedf.medium_used.value_counts()"
      ],
      "execution_count": 46,
      "outputs": [
        {
          "output_type": "execute_result",
          "data": {
            "text/plain": [
              "Application    2716\n",
              "MobileWeb      1449\n",
              "Safari         1387\n",
              "Chrome         1181\n",
              "IE              429\n",
              "Firefox         327\n",
              "Others          267\n",
              "Name: medium_used, dtype: int64"
            ]
          },
          "metadata": {
            "tags": []
          },
          "execution_count": 46
        }
      ]
    },
    {
      "cell_type": "code",
      "metadata": {
        "id": "h6SLn6Boz_px"
      },
      "source": [
        "mergedf = mergedf.drop(['session_id','client_agent','device_details'],axis=1)"
      ],
      "execution_count": 47,
      "outputs": []
    },
    {
      "cell_type": "code",
      "metadata": {
        "colab": {
          "base_uri": "https://localhost:8080/",
          "height": 195
        },
        "id": "SXrotITP0F94",
        "outputId": "95eeae41-cbf9-4840-d237-e0f206a2d47d"
      },
      "source": [
        "mergedf.head()"
      ],
      "execution_count": 48,
      "outputs": [
        {
          "output_type": "execute_result",
          "data": {
            "text/html": [
              "<div>\n",
              "<style scoped>\n",
              "    .dataframe tbody tr th:only-of-type {\n",
              "        vertical-align: middle;\n",
              "    }\n",
              "\n",
              "    .dataframe tbody tr th {\n",
              "        vertical-align: top;\n",
              "    }\n",
              "\n",
              "    .dataframe thead th {\n",
              "        text-align: right;\n",
              "    }\n",
              "</style>\n",
              "<table border=\"1\" class=\"dataframe\">\n",
              "  <thead>\n",
              "    <tr style=\"text-align: right;\">\n",
              "      <th></th>\n",
              "      <th>session_number</th>\n",
              "      <th>date</th>\n",
              "      <th>purchased</th>\n",
              "      <th>added_in_cart</th>\n",
              "      <th>checked_out</th>\n",
              "      <th>time_spent</th>\n",
              "      <th>medium_used</th>\n",
              "      <th>device_used</th>\n",
              "      <th>os_used</th>\n",
              "    </tr>\n",
              "  </thead>\n",
              "  <tbody>\n",
              "    <tr>\n",
              "      <th>0</th>\n",
              "      <td>715</td>\n",
              "      <td>2020-01-22</td>\n",
              "      <td>1</td>\n",
              "      <td>0</td>\n",
              "      <td>0</td>\n",
              "      <td>236.886</td>\n",
              "      <td>Chrome</td>\n",
              "      <td>Desktop</td>\n",
              "      <td>Windows</td>\n",
              "    </tr>\n",
              "    <tr>\n",
              "      <th>1</th>\n",
              "      <td>55</td>\n",
              "      <td>2020-02-27</td>\n",
              "      <td>1</td>\n",
              "      <td>0</td>\n",
              "      <td>0</td>\n",
              "      <td>1277.45</td>\n",
              "      <td>Application</td>\n",
              "      <td>Smartphone</td>\n",
              "      <td>ios</td>\n",
              "    </tr>\n",
              "    <tr>\n",
              "      <th>2</th>\n",
              "      <td>11</td>\n",
              "      <td>2019-08-01</td>\n",
              "      <td>0</td>\n",
              "      <td>0</td>\n",
              "      <td>0</td>\n",
              "      <td>21.704</td>\n",
              "      <td>MobileWeb</td>\n",
              "      <td>Smartphone</td>\n",
              "      <td>ios</td>\n",
              "    </tr>\n",
              "    <tr>\n",
              "      <th>3</th>\n",
              "      <td>2794</td>\n",
              "      <td>2019-12-30</td>\n",
              "      <td>0</td>\n",
              "      <td>1</td>\n",
              "      <td>0</td>\n",
              "      <td>455.201</td>\n",
              "      <td>IE</td>\n",
              "      <td>Desktop</td>\n",
              "      <td>Windows</td>\n",
              "    </tr>\n",
              "    <tr>\n",
              "      <th>4</th>\n",
              "      <td>3674</td>\n",
              "      <td>2019-09-10</td>\n",
              "      <td>0</td>\n",
              "      <td>0</td>\n",
              "      <td>0</td>\n",
              "      <td>1164.88</td>\n",
              "      <td>Safari</td>\n",
              "      <td>Smartphone</td>\n",
              "      <td>ios</td>\n",
              "    </tr>\n",
              "  </tbody>\n",
              "</table>\n",
              "</div>"
            ],
            "text/plain": [
              "   session_number        date  purchased  ...  medium_used  device_used  os_used\n",
              "0             715  2020-01-22          1  ...       Chrome      Desktop  Windows\n",
              "1              55  2020-02-27          1  ...  Application   Smartphone      ios\n",
              "2              11  2019-08-01          0  ...    MobileWeb   Smartphone      ios\n",
              "3            2794  2019-12-30          0  ...           IE      Desktop  Windows\n",
              "4            3674  2019-09-10          0  ...       Safari   Smartphone      ios\n",
              "\n",
              "[5 rows x 9 columns]"
            ]
          },
          "metadata": {
            "tags": []
          },
          "execution_count": 48
        }
      ]
    },
    {
      "cell_type": "code",
      "metadata": {
        "id": "8zD4-ypV0cDT"
      },
      "source": [
        "def Datefix(df):\r\n",
        "    df['date']= pd.to_datetime(df['date']) \r\n",
        "    df['month'] = df['date'].dt.month\r\n",
        "    df['day'] = df['date'].dt.day\r\n",
        "    df['year'] = df['date'].dt.year\r\n",
        "    df['quarter'] = df['date'].dt.quarter\r\n",
        "    df['weekname'] = df['date'].dt.day_name()\r\n",
        "    df['is_weekend'] = np.where(df['weekname'].isin(['Sunday','Saturday']),1,0)\r\n",
        "    return df"
      ],
      "execution_count": 49,
      "outputs": []
    },
    {
      "cell_type": "code",
      "metadata": {
        "id": "mdsr1dsf4xwj"
      },
      "source": [
        "mergedf = Datefix(mergedf)"
      ],
      "execution_count": 50,
      "outputs": []
    },
    {
      "cell_type": "code",
      "metadata": {
        "colab": {
          "base_uri": "https://localhost:8080/"
        },
        "id": "7LZinSzyM1vC",
        "outputId": "d75e4b34-81dd-4df6-dbd2-7429e86cee7d"
      },
      "source": [
        "mergedf.month.value_counts()"
      ],
      "execution_count": 51,
      "outputs": [
        {
          "output_type": "execute_result",
          "data": {
            "text/plain": [
              "9     1186\n",
              "12    1100\n",
              "11     806\n",
              "1      800\n",
              "10     789\n",
              "2      744\n",
              "8      722\n",
              "7      587\n",
              "3      422\n",
              "6      337\n",
              "5      148\n",
              "4      115\n",
              "Name: month, dtype: int64"
            ]
          },
          "metadata": {
            "tags": []
          },
          "execution_count": 51
        }
      ]
    },
    {
      "cell_type": "code",
      "metadata": {
        "colab": {
          "base_uri": "https://localhost:8080/"
        },
        "id": "mX7hsrC-M1pr",
        "outputId": "4ffa3ddb-fe96-4246-fb1b-376725dc203f"
      },
      "source": [
        "mergedf.day.value_counts()"
      ],
      "execution_count": 52,
      "outputs": [
        {
          "output_type": "execute_result",
          "data": {
            "text/plain": [
              "6     313\n",
              "8     311\n",
              "2     304\n",
              "9     289\n",
              "22    288\n",
              "28    284\n",
              "5     283\n",
              "23    282\n",
              "11    278\n",
              "15    274\n",
              "1     270\n",
              "7     261\n",
              "24    255\n",
              "10    251\n",
              "27    247\n",
              "29    246\n",
              "3     244\n",
              "13    242\n",
              "30    241\n",
              "4     239\n",
              "26    238\n",
              "19    238\n",
              "14    236\n",
              "17    235\n",
              "16    230\n",
              "12    222\n",
              "20    221\n",
              "25    210\n",
              "21    193\n",
              "18    193\n",
              "31    138\n",
              "Name: day, dtype: int64"
            ]
          },
          "metadata": {
            "tags": []
          },
          "execution_count": 52
        }
      ]
    },
    {
      "cell_type": "code",
      "metadata": {
        "colab": {
          "base_uri": "https://localhost:8080/"
        },
        "id": "4SgwzgjUM4e0",
        "outputId": "3bd299ad-ac86-4705-d76f-3afa786daf5c"
      },
      "source": [
        "mergedf.year.value_counts()"
      ],
      "execution_count": 53,
      "outputs": [
        {
          "output_type": "execute_result",
          "data": {
            "text/plain": [
              "2019    5675\n",
              "2020    2081\n",
              "Name: year, dtype: int64"
            ]
          },
          "metadata": {
            "tags": []
          },
          "execution_count": 53
        }
      ]
    },
    {
      "cell_type": "code",
      "metadata": {
        "colab": {
          "base_uri": "https://localhost:8080/"
        },
        "id": "cV6Zlv1YM4b7",
        "outputId": "9dd3a994-0b37-427a-91f3-ed667c11e520"
      },
      "source": [
        "mergedf.quarter.value_counts()"
      ],
      "execution_count": 54,
      "outputs": [
        {
          "output_type": "execute_result",
          "data": {
            "text/plain": [
              "4    2695\n",
              "3    2495\n",
              "1    1966\n",
              "2     600\n",
              "Name: quarter, dtype: int64"
            ]
          },
          "metadata": {
            "tags": []
          },
          "execution_count": 54
        }
      ]
    },
    {
      "cell_type": "code",
      "metadata": {
        "colab": {
          "base_uri": "https://localhost:8080/"
        },
        "id": "hEs4CqUwM_wi",
        "outputId": "653f7f29-ce27-4a72-fd41-596c586ed61d"
      },
      "source": [
        "mergedf.weekname.value_counts()"
      ],
      "execution_count": 55,
      "outputs": [
        {
          "output_type": "execute_result",
          "data": {
            "text/plain": [
              "Sunday       1284\n",
              "Monday       1232\n",
              "Tuesday      1209\n",
              "Wednesday    1132\n",
              "Thursday     1014\n",
              "Friday        962\n",
              "Saturday      923\n",
              "Name: weekname, dtype: int64"
            ]
          },
          "metadata": {
            "tags": []
          },
          "execution_count": 55
        }
      ]
    },
    {
      "cell_type": "code",
      "metadata": {
        "id": "1aA7fSOG6jcB"
      },
      "source": [
        "from sklearn import preprocessing  \r\n",
        "label_encoder = preprocessing.LabelEncoder()  \r\n",
        "mergedf['device_used'] = label_encoder.fit_transform(mergedf['device_used'])\r\n",
        "mergedf['medium_used'] = label_encoder.fit_transform(mergedf['medium_used'])  \r\n",
        "mergedf['os_used'] = label_encoder.fit_transform(mergedf['os_used'])\r\n",
        "mergedf['weekname'] = label_encoder.fit_transform(mergedf['weekname'])\r\n",
        "mergedf['year'] = label_encoder.fit_transform(mergedf['year'])"
      ],
      "execution_count": 56,
      "outputs": []
    },
    {
      "cell_type": "code",
      "metadata": {
        "id": "c_O4b7RC1EmO"
      },
      "source": [
        "train_data = mergedf[:5429]\r\n",
        "test_data = mergedf[5429:]\r\n",
        "test_data = test_data.reset_index(drop=True)\r\n",
        "test_data = test_data.drop(['time_spent','date'],axis = 1)"
      ],
      "execution_count": 57,
      "outputs": []
    },
    {
      "cell_type": "code",
      "metadata": {
        "colab": {
          "base_uri": "https://localhost:8080/"
        },
        "id": "d1wTfPDH7DZJ",
        "outputId": "b25bfc43-0c2c-4998-b278-80137b7d7832"
      },
      "source": [
        "train_data['time_spent'] = train_data['time_spent'].astype(np.float64)"
      ],
      "execution_count": 58,
      "outputs": [
        {
          "output_type": "stream",
          "text": [
            "/usr/local/lib/python3.6/dist-packages/ipykernel_launcher.py:1: SettingWithCopyWarning: \n",
            "A value is trying to be set on a copy of a slice from a DataFrame.\n",
            "Try using .loc[row_indexer,col_indexer] = value instead\n",
            "\n",
            "See the caveats in the documentation: https://pandas.pydata.org/pandas-docs/stable/user_guide/indexing.html#returning-a-view-versus-a-copy\n",
            "  \"\"\"Entry point for launching an IPython kernel.\n"
          ],
          "name": "stderr"
        }
      ]
    },
    {
      "cell_type": "code",
      "metadata": {
        "colab": {
          "base_uri": "https://localhost:8080/",
          "height": 462
        },
        "id": "VzEXK3Zp7Vj4",
        "outputId": "a2616db5-ea2d-4880-bf38-b3ad55fee526"
      },
      "source": [
        "train_data.corr()"
      ],
      "execution_count": 59,
      "outputs": [
        {
          "output_type": "execute_result",
          "data": {
            "text/html": [
              "<div>\n",
              "<style scoped>\n",
              "    .dataframe tbody tr th:only-of-type {\n",
              "        vertical-align: middle;\n",
              "    }\n",
              "\n",
              "    .dataframe tbody tr th {\n",
              "        vertical-align: top;\n",
              "    }\n",
              "\n",
              "    .dataframe thead th {\n",
              "        text-align: right;\n",
              "    }\n",
              "</style>\n",
              "<table border=\"1\" class=\"dataframe\">\n",
              "  <thead>\n",
              "    <tr style=\"text-align: right;\">\n",
              "      <th></th>\n",
              "      <th>session_number</th>\n",
              "      <th>purchased</th>\n",
              "      <th>added_in_cart</th>\n",
              "      <th>checked_out</th>\n",
              "      <th>time_spent</th>\n",
              "      <th>medium_used</th>\n",
              "      <th>device_used</th>\n",
              "      <th>os_used</th>\n",
              "      <th>month</th>\n",
              "      <th>day</th>\n",
              "      <th>year</th>\n",
              "      <th>quarter</th>\n",
              "      <th>weekname</th>\n",
              "      <th>is_weekend</th>\n",
              "    </tr>\n",
              "  </thead>\n",
              "  <tbody>\n",
              "    <tr>\n",
              "      <th>session_number</th>\n",
              "      <td>1.000000</td>\n",
              "      <td>-0.213733</td>\n",
              "      <td>0.003013</td>\n",
              "      <td>-0.054500</td>\n",
              "      <td>0.078437</td>\n",
              "      <td>0.037864</td>\n",
              "      <td>0.206771</td>\n",
              "      <td>0.173426</td>\n",
              "      <td>0.076441</td>\n",
              "      <td>-0.002180</td>\n",
              "      <td>0.010174</td>\n",
              "      <td>0.035236</td>\n",
              "      <td>-0.004978</td>\n",
              "      <td>-0.006856</td>\n",
              "    </tr>\n",
              "    <tr>\n",
              "      <th>purchased</th>\n",
              "      <td>-0.213733</td>\n",
              "      <td>1.000000</td>\n",
              "      <td>0.045022</td>\n",
              "      <td>0.168513</td>\n",
              "      <td>0.200762</td>\n",
              "      <td>-0.077132</td>\n",
              "      <td>-0.204488</td>\n",
              "      <td>-0.052645</td>\n",
              "      <td>-0.052517</td>\n",
              "      <td>-0.011841</td>\n",
              "      <td>0.058483</td>\n",
              "      <td>-0.042185</td>\n",
              "      <td>0.005174</td>\n",
              "      <td>0.003793</td>\n",
              "    </tr>\n",
              "    <tr>\n",
              "      <th>added_in_cart</th>\n",
              "      <td>0.003013</td>\n",
              "      <td>0.045022</td>\n",
              "      <td>1.000000</td>\n",
              "      <td>0.215754</td>\n",
              "      <td>0.209807</td>\n",
              "      <td>-0.115092</td>\n",
              "      <td>-0.104202</td>\n",
              "      <td>-0.077701</td>\n",
              "      <td>-0.032181</td>\n",
              "      <td>0.018657</td>\n",
              "      <td>0.032900</td>\n",
              "      <td>-0.032628</td>\n",
              "      <td>0.020016</td>\n",
              "      <td>-0.041200</td>\n",
              "    </tr>\n",
              "    <tr>\n",
              "      <th>checked_out</th>\n",
              "      <td>-0.054500</td>\n",
              "      <td>0.168513</td>\n",
              "      <td>0.215754</td>\n",
              "      <td>1.000000</td>\n",
              "      <td>0.157765</td>\n",
              "      <td>-0.025088</td>\n",
              "      <td>-0.097741</td>\n",
              "      <td>-0.007433</td>\n",
              "      <td>-0.010186</td>\n",
              "      <td>-0.003823</td>\n",
              "      <td>0.008054</td>\n",
              "      <td>-0.011371</td>\n",
              "      <td>0.023959</td>\n",
              "      <td>0.003444</td>\n",
              "    </tr>\n",
              "    <tr>\n",
              "      <th>time_spent</th>\n",
              "      <td>0.078437</td>\n",
              "      <td>0.200762</td>\n",
              "      <td>0.209807</td>\n",
              "      <td>0.157765</td>\n",
              "      <td>1.000000</td>\n",
              "      <td>-0.059106</td>\n",
              "      <td>-0.027572</td>\n",
              "      <td>0.006396</td>\n",
              "      <td>0.013367</td>\n",
              "      <td>-0.030206</td>\n",
              "      <td>-0.030843</td>\n",
              "      <td>0.001644</td>\n",
              "      <td>-0.016746</td>\n",
              "      <td>-0.003068</td>\n",
              "    </tr>\n",
              "    <tr>\n",
              "      <th>medium_used</th>\n",
              "      <td>0.037864</td>\n",
              "      <td>-0.077132</td>\n",
              "      <td>-0.115092</td>\n",
              "      <td>-0.025088</td>\n",
              "      <td>-0.059106</td>\n",
              "      <td>1.000000</td>\n",
              "      <td>-0.005952</td>\n",
              "      <td>-0.179644</td>\n",
              "      <td>0.068453</td>\n",
              "      <td>0.006510</td>\n",
              "      <td>-0.086983</td>\n",
              "      <td>0.061276</td>\n",
              "      <td>-0.024090</td>\n",
              "      <td>0.027875</td>\n",
              "    </tr>\n",
              "    <tr>\n",
              "      <th>device_used</th>\n",
              "      <td>0.206771</td>\n",
              "      <td>-0.204488</td>\n",
              "      <td>-0.104202</td>\n",
              "      <td>-0.097741</td>\n",
              "      <td>-0.027572</td>\n",
              "      <td>-0.005952</td>\n",
              "      <td>1.000000</td>\n",
              "      <td>0.106887</td>\n",
              "      <td>0.041215</td>\n",
              "      <td>-0.009485</td>\n",
              "      <td>-0.038686</td>\n",
              "      <td>0.024788</td>\n",
              "      <td>-0.043043</td>\n",
              "      <td>0.003435</td>\n",
              "    </tr>\n",
              "    <tr>\n",
              "      <th>os_used</th>\n",
              "      <td>0.173426</td>\n",
              "      <td>-0.052645</td>\n",
              "      <td>-0.077701</td>\n",
              "      <td>-0.007433</td>\n",
              "      <td>0.006396</td>\n",
              "      <td>-0.179644</td>\n",
              "      <td>0.106887</td>\n",
              "      <td>1.000000</td>\n",
              "      <td>0.083042</td>\n",
              "      <td>0.011012</td>\n",
              "      <td>-0.042364</td>\n",
              "      <td>0.082660</td>\n",
              "      <td>-0.029207</td>\n",
              "      <td>0.017785</td>\n",
              "    </tr>\n",
              "    <tr>\n",
              "      <th>month</th>\n",
              "      <td>0.076441</td>\n",
              "      <td>-0.052517</td>\n",
              "      <td>-0.032181</td>\n",
              "      <td>-0.010186</td>\n",
              "      <td>0.013367</td>\n",
              "      <td>0.068453</td>\n",
              "      <td>0.041215</td>\n",
              "      <td>0.083042</td>\n",
              "      <td>1.000000</td>\n",
              "      <td>0.050067</td>\n",
              "      <td>-0.884790</td>\n",
              "      <td>0.975688</td>\n",
              "      <td>-0.035060</td>\n",
              "      <td>0.016119</td>\n",
              "    </tr>\n",
              "    <tr>\n",
              "      <th>day</th>\n",
              "      <td>-0.002180</td>\n",
              "      <td>-0.011841</td>\n",
              "      <td>0.018657</td>\n",
              "      <td>-0.003823</td>\n",
              "      <td>-0.030206</td>\n",
              "      <td>0.006510</td>\n",
              "      <td>-0.009485</td>\n",
              "      <td>0.011012</td>\n",
              "      <td>0.050067</td>\n",
              "      <td>1.000000</td>\n",
              "      <td>-0.087050</td>\n",
              "      <td>0.069822</td>\n",
              "      <td>-0.020627</td>\n",
              "      <td>-0.025156</td>\n",
              "    </tr>\n",
              "    <tr>\n",
              "      <th>year</th>\n",
              "      <td>0.010174</td>\n",
              "      <td>0.058483</td>\n",
              "      <td>0.032900</td>\n",
              "      <td>0.008054</td>\n",
              "      <td>-0.030843</td>\n",
              "      <td>-0.086983</td>\n",
              "      <td>-0.038686</td>\n",
              "      <td>-0.042364</td>\n",
              "      <td>-0.884790</td>\n",
              "      <td>-0.087050</td>\n",
              "      <td>1.000000</td>\n",
              "      <td>-0.880020</td>\n",
              "      <td>0.024067</td>\n",
              "      <td>-0.005468</td>\n",
              "    </tr>\n",
              "    <tr>\n",
              "      <th>quarter</th>\n",
              "      <td>0.035236</td>\n",
              "      <td>-0.042185</td>\n",
              "      <td>-0.032628</td>\n",
              "      <td>-0.011371</td>\n",
              "      <td>0.001644</td>\n",
              "      <td>0.061276</td>\n",
              "      <td>0.024788</td>\n",
              "      <td>0.082660</td>\n",
              "      <td>0.975688</td>\n",
              "      <td>0.069822</td>\n",
              "      <td>-0.880020</td>\n",
              "      <td>1.000000</td>\n",
              "      <td>-0.026054</td>\n",
              "      <td>0.008511</td>\n",
              "    </tr>\n",
              "    <tr>\n",
              "      <th>weekname</th>\n",
              "      <td>-0.004978</td>\n",
              "      <td>0.005174</td>\n",
              "      <td>0.020016</td>\n",
              "      <td>0.023959</td>\n",
              "      <td>-0.016746</td>\n",
              "      <td>-0.024090</td>\n",
              "      <td>-0.043043</td>\n",
              "      <td>-0.029207</td>\n",
              "      <td>-0.035060</td>\n",
              "      <td>-0.020627</td>\n",
              "      <td>0.024067</td>\n",
              "      <td>-0.026054</td>\n",
              "      <td>1.000000</td>\n",
              "      <td>-0.154825</td>\n",
              "    </tr>\n",
              "    <tr>\n",
              "      <th>is_weekend</th>\n",
              "      <td>-0.006856</td>\n",
              "      <td>0.003793</td>\n",
              "      <td>-0.041200</td>\n",
              "      <td>0.003444</td>\n",
              "      <td>-0.003068</td>\n",
              "      <td>0.027875</td>\n",
              "      <td>0.003435</td>\n",
              "      <td>0.017785</td>\n",
              "      <td>0.016119</td>\n",
              "      <td>-0.025156</td>\n",
              "      <td>-0.005468</td>\n",
              "      <td>0.008511</td>\n",
              "      <td>-0.154825</td>\n",
              "      <td>1.000000</td>\n",
              "    </tr>\n",
              "  </tbody>\n",
              "</table>\n",
              "</div>"
            ],
            "text/plain": [
              "                session_number  purchased  ...  weekname  is_weekend\n",
              "session_number        1.000000  -0.213733  ... -0.004978   -0.006856\n",
              "purchased            -0.213733   1.000000  ...  0.005174    0.003793\n",
              "added_in_cart         0.003013   0.045022  ...  0.020016   -0.041200\n",
              "checked_out          -0.054500   0.168513  ...  0.023959    0.003444\n",
              "time_spent            0.078437   0.200762  ... -0.016746   -0.003068\n",
              "medium_used           0.037864  -0.077132  ... -0.024090    0.027875\n",
              "device_used           0.206771  -0.204488  ... -0.043043    0.003435\n",
              "os_used               0.173426  -0.052645  ... -0.029207    0.017785\n",
              "month                 0.076441  -0.052517  ... -0.035060    0.016119\n",
              "day                  -0.002180  -0.011841  ... -0.020627   -0.025156\n",
              "year                  0.010174   0.058483  ...  0.024067   -0.005468\n",
              "quarter               0.035236  -0.042185  ... -0.026054    0.008511\n",
              "weekname             -0.004978   0.005174  ...  1.000000   -0.154825\n",
              "is_weekend           -0.006856   0.003793  ... -0.154825    1.000000\n",
              "\n",
              "[14 rows x 14 columns]"
            ]
          },
          "metadata": {
            "tags": []
          },
          "execution_count": 59
        }
      ]
    },
    {
      "cell_type": "code",
      "metadata": {
        "colab": {
          "base_uri": "https://localhost:8080/",
          "height": 357
        },
        "id": "qQ6gtRJaNLRw",
        "outputId": "84989829-ff6e-46f0-ea4a-371b43d910c5"
      },
      "source": [
        "sns.heatmap(data = train_data.corr())"
      ],
      "execution_count": 60,
      "outputs": [
        {
          "output_type": "execute_result",
          "data": {
            "text/plain": [
              "<matplotlib.axes._subplots.AxesSubplot at 0x7f7a56ba5390>"
            ]
          },
          "metadata": {
            "tags": []
          },
          "execution_count": 60
        },
        {
          "output_type": "display_data",
          "data": {
            "image/png": "[encoded data removed]",
            "text/plain": [
              "<Figure size 432x288 with 2 Axes>"
            ]
          },
          "metadata": {
            "tags": [],
            "needs_background": "light"
          }
        }
      ]
    },
    {
      "cell_type": "code",
      "metadata": {
        "colab": {
          "base_uri": "https://localhost:8080/",
          "height": 1000
        },
        "id": "JeIur-CU9COt",
        "outputId": "e9e2c638-839c-4114-ce87-52c9baf23539"
      },
      "source": [
        "train_data.hist(bins=50, figsize=(15, 15))"
      ],
      "execution_count": 61,
      "outputs": [
        {
          "output_type": "execute_result",
          "data": {
            "text/plain": [
              "array([[<matplotlib.axes._subplots.AxesSubplot object at 0x7f7a55df1278>,\n",
              "        <matplotlib.axes._subplots.AxesSubplot object at 0x7f7a55d986a0>,\n",
              "        <matplotlib.axes._subplots.AxesSubplot object at 0x7f7a55d46908>,\n",
              "        <matplotlib.axes._subplots.AxesSubplot object at 0x7f7a55d77b70>],\n",
              "       [<matplotlib.axes._subplots.AxesSubplot object at 0x7f7a55d29dd8>,\n",
              "        <matplotlib.axes._subplots.AxesSubplot object at 0x7f7a55ce6080>,\n",
              "        <matplotlib.axes._subplots.AxesSubplot object at 0x7f7a55c962e8>,\n",
              "        <matplotlib.axes._subplots.AxesSubplot object at 0x7f7a55c47518>],\n",
              "       [<matplotlib.axes._subplots.AxesSubplot object at 0x7f7a55c47588>,\n",
              "        <matplotlib.axes._subplots.AxesSubplot object at 0x7f7a55c2da20>,\n",
              "        <matplotlib.axes._subplots.AxesSubplot object at 0x7f7a55be1c88>,\n",
              "        <matplotlib.axes._subplots.AxesSubplot object at 0x7f7a55b96ef0>],\n",
              "       [<matplotlib.axes._subplots.AxesSubplot object at 0x7f7a55b4cd30>,\n",
              "        <matplotlib.axes._subplots.AxesSubplot object at 0x7f7a55b0c0f0>,\n",
              "        <matplotlib.axes._subplots.AxesSubplot object at 0x7f7a55b3c470>,\n",
              "        <matplotlib.axes._subplots.AxesSubplot object at 0x7f7a55aed7f0>]],\n",
              "      dtype=object)"
            ]
          },
          "metadata": {
            "tags": []
          },
          "execution_count": 61
        },
        {
          "output_type": "display_data",
          "data": {
            "image/png": "[encoded data removed]",
            "text/plain": [
              "<Figure size 1080x1080 with 16 Axes>"
            ]
          },
          "metadata": {
            "tags": [],
            "needs_background": "light"
          }
        }
      ]
    },
    {
      "cell_type": "code",
      "metadata": {
        "id": "WQr_JKhbK-E7"
      },
      "source": [
        "X = train_data.drop(['time_spent','date','quarter','month'],axis=1)\r\n",
        "Y = train_data['time_spent']\r\n",
        "Y=Y.to_frame()"
      ],
      "execution_count": 62,
      "outputs": []
    },
    {
      "cell_type": "code",
      "metadata": {
        "colab": {
          "base_uri": "https://localhost:8080/",
          "height": 402
        },
        "id": "MumvZIqBNXHv",
        "outputId": "cabad4da-2d8d-4ad2-c975-9346520cc8bf"
      },
      "source": [
        "X"
      ],
      "execution_count": 63,
      "outputs": [
        {
          "output_type": "execute_result",
          "data": {
            "text/html": [
              "<div>\n",
              "<style scoped>\n",
              "    .dataframe tbody tr th:only-of-type {\n",
              "        vertical-align: middle;\n",
              "    }\n",
              "\n",
              "    .dataframe tbody tr th {\n",
              "        vertical-align: top;\n",
              "    }\n",
              "\n",
              "    .dataframe thead th {\n",
              "        text-align: right;\n",
              "    }\n",
              "</style>\n",
              "<table border=\"1\" class=\"dataframe\">\n",
              "  <thead>\n",
              "    <tr style=\"text-align: right;\">\n",
              "      <th></th>\n",
              "      <th>session_number</th>\n",
              "      <th>purchased</th>\n",
              "      <th>added_in_cart</th>\n",
              "      <th>checked_out</th>\n",
              "      <th>medium_used</th>\n",
              "      <th>device_used</th>\n",
              "      <th>os_used</th>\n",
              "      <th>day</th>\n",
              "      <th>year</th>\n",
              "      <th>weekname</th>\n",
              "      <th>is_weekend</th>\n",
              "    </tr>\n",
              "  </thead>\n",
              "  <tbody>\n",
              "    <tr>\n",
              "      <th>0</th>\n",
              "      <td>715</td>\n",
              "      <td>1</td>\n",
              "      <td>0</td>\n",
              "      <td>0</td>\n",
              "      <td>1</td>\n",
              "      <td>0</td>\n",
              "      <td>4</td>\n",
              "      <td>22</td>\n",
              "      <td>1</td>\n",
              "      <td>6</td>\n",
              "      <td>0</td>\n",
              "    </tr>\n",
              "    <tr>\n",
              "      <th>1</th>\n",
              "      <td>55</td>\n",
              "      <td>1</td>\n",
              "      <td>0</td>\n",
              "      <td>0</td>\n",
              "      <td>0</td>\n",
              "      <td>2</td>\n",
              "      <td>5</td>\n",
              "      <td>27</td>\n",
              "      <td>1</td>\n",
              "      <td>4</td>\n",
              "      <td>0</td>\n",
              "    </tr>\n",
              "    <tr>\n",
              "      <th>2</th>\n",
              "      <td>11</td>\n",
              "      <td>0</td>\n",
              "      <td>0</td>\n",
              "      <td>0</td>\n",
              "      <td>4</td>\n",
              "      <td>2</td>\n",
              "      <td>5</td>\n",
              "      <td>1</td>\n",
              "      <td>0</td>\n",
              "      <td>4</td>\n",
              "      <td>0</td>\n",
              "    </tr>\n",
              "    <tr>\n",
              "      <th>3</th>\n",
              "      <td>2794</td>\n",
              "      <td>0</td>\n",
              "      <td>1</td>\n",
              "      <td>0</td>\n",
              "      <td>3</td>\n",
              "      <td>0</td>\n",
              "      <td>4</td>\n",
              "      <td>30</td>\n",
              "      <td>0</td>\n",
              "      <td>1</td>\n",
              "      <td>0</td>\n",
              "    </tr>\n",
              "    <tr>\n",
              "      <th>4</th>\n",
              "      <td>3674</td>\n",
              "      <td>0</td>\n",
              "      <td>0</td>\n",
              "      <td>0</td>\n",
              "      <td>6</td>\n",
              "      <td>2</td>\n",
              "      <td>5</td>\n",
              "      <td>10</td>\n",
              "      <td>0</td>\n",
              "      <td>5</td>\n",
              "      <td>0</td>\n",
              "    </tr>\n",
              "    <tr>\n",
              "      <th>...</th>\n",
              "      <td>...</td>\n",
              "      <td>...</td>\n",
              "      <td>...</td>\n",
              "      <td>...</td>\n",
              "      <td>...</td>\n",
              "      <td>...</td>\n",
              "      <td>...</td>\n",
              "      <td>...</td>\n",
              "      <td>...</td>\n",
              "      <td>...</td>\n",
              "      <td>...</td>\n",
              "    </tr>\n",
              "    <tr>\n",
              "      <th>5424</th>\n",
              "      <td>627</td>\n",
              "      <td>0</td>\n",
              "      <td>0</td>\n",
              "      <td>0</td>\n",
              "      <td>6</td>\n",
              "      <td>2</td>\n",
              "      <td>5</td>\n",
              "      <td>20</td>\n",
              "      <td>0</td>\n",
              "      <td>6</td>\n",
              "      <td>0</td>\n",
              "    </tr>\n",
              "    <tr>\n",
              "      <th>5425</th>\n",
              "      <td>6710</td>\n",
              "      <td>0</td>\n",
              "      <td>0</td>\n",
              "      <td>0</td>\n",
              "      <td>0</td>\n",
              "      <td>2</td>\n",
              "      <td>5</td>\n",
              "      <td>26</td>\n",
              "      <td>0</td>\n",
              "      <td>4</td>\n",
              "      <td>0</td>\n",
              "    </tr>\n",
              "    <tr>\n",
              "      <th>5426</th>\n",
              "      <td>198</td>\n",
              "      <td>0</td>\n",
              "      <td>0</td>\n",
              "      <td>0</td>\n",
              "      <td>1</td>\n",
              "      <td>0</td>\n",
              "      <td>4</td>\n",
              "      <td>13</td>\n",
              "      <td>0</td>\n",
              "      <td>5</td>\n",
              "      <td>0</td>\n",
              "    </tr>\n",
              "    <tr>\n",
              "      <th>5427</th>\n",
              "      <td>913</td>\n",
              "      <td>0</td>\n",
              "      <td>0</td>\n",
              "      <td>0</td>\n",
              "      <td>4</td>\n",
              "      <td>2</td>\n",
              "      <td>3</td>\n",
              "      <td>18</td>\n",
              "      <td>0</td>\n",
              "      <td>5</td>\n",
              "      <td>0</td>\n",
              "    </tr>\n",
              "    <tr>\n",
              "      <th>5428</th>\n",
              "      <td>1254</td>\n",
              "      <td>0</td>\n",
              "      <td>0</td>\n",
              "      <td>0</td>\n",
              "      <td>6</td>\n",
              "      <td>2</td>\n",
              "      <td>5</td>\n",
              "      <td>21</td>\n",
              "      <td>0</td>\n",
              "      <td>1</td>\n",
              "      <td>0</td>\n",
              "    </tr>\n",
              "  </tbody>\n",
              "</table>\n",
              "<p>5429 rows × 11 columns</p>\n",
              "</div>"
            ],
            "text/plain": [
              "      session_number  purchased  added_in_cart  ...  year  weekname  is_weekend\n",
              "0                715          1              0  ...     1         6           0\n",
              "1                 55          1              0  ...     1         4           0\n",
              "2                 11          0              0  ...     0         4           0\n",
              "3               2794          0              1  ...     0         1           0\n",
              "4               3674          0              0  ...     0         5           0\n",
              "...              ...        ...            ...  ...   ...       ...         ...\n",
              "5424             627          0              0  ...     0         6           0\n",
              "5425            6710          0              0  ...     0         4           0\n",
              "5426             198          0              0  ...     0         5           0\n",
              "5427             913          0              0  ...     0         5           0\n",
              "5428            1254          0              0  ...     0         1           0\n",
              "\n",
              "[5429 rows x 11 columns]"
            ]
          },
          "metadata": {
            "tags": []
          },
          "execution_count": 63
        }
      ]
    },
    {
      "cell_type": "code",
      "metadata": {
        "colab": {
          "base_uri": "https://localhost:8080/"
        },
        "id": "WgH-41sIujGp",
        "outputId": "89ab0061-f61a-4121-daed-73d0f2b0240d"
      },
      "source": [
        "from statsmodels.stats.outliers_influence import variance_inflation_factor \r\n",
        "\r\n",
        "  \r\n",
        "# VIF dataframe \r\n",
        "vif_data = pd.DataFrame() \r\n",
        "vif_data[\"feature\"] = X.columns \r\n",
        "  \r\n",
        "# calculating VIF for each feature \r\n",
        "vif_data[\"VIF\"] = [variance_inflation_factor(X.values, i) \r\n",
        "                          for i in range(len(X.columns))] \r\n",
        "  \r\n",
        "print(vif_data)"
      ],
      "execution_count": 64,
      "outputs": [
        {
          "output_type": "stream",
          "text": [
            "           feature       VIF\n",
            "0   session_number  1.732430\n",
            "1        purchased  1.260914\n",
            "2    added_in_cart  1.242961\n",
            "3      checked_out  1.100704\n",
            "4      medium_used  1.866423\n",
            "5      device_used  2.890411\n",
            "6          os_used  4.236954\n",
            "7              day  3.251934\n",
            "8             year  1.330835\n",
            "9         weekname  2.848663\n",
            "10      is_weekend  1.371035\n"
          ],
          "name": "stdout"
        }
      ]
    },
    {
      "cell_type": "markdown",
      "metadata": {
        "id": "y9IErrWtWC2x"
      },
      "source": [
        "# SVM"
      ]
    },
    {
      "cell_type": "code",
      "metadata": {
        "id": "8OCKWs-KOkWP"
      },
      "source": [
        "Y_to_check = train_data['time_spent']"
      ],
      "execution_count": 65,
      "outputs": []
    },
    {
      "cell_type": "code",
      "metadata": {
        "id": "GXQY0e0lBx9P"
      },
      "source": [
        "from sklearn.preprocessing import StandardScaler\r\n",
        "sc_X = StandardScaler()\r\n",
        "sc_y = StandardScaler()\r\n",
        "X = sc_X.fit_transform(X)\r\n",
        "Y = sc_y.fit_transform(Y)\r\n",
        "to_test = test_data.drop(['quarter','month'],axis=1)\r\n",
        "to_test = sc_X.fit_transform(to_test)"
      ],
      "execution_count": 66,
      "outputs": []
    },
    {
      "cell_type": "code",
      "metadata": {
        "id": "zNMzHO7iyDWQ",
        "colab": {
          "base_uri": "https://localhost:8080/"
        },
        "outputId": "5c45c7b7-4a9b-4351-8738-8dfb2e403656"
      },
      "source": [
        "from sklearn.svm import SVR\r\n",
        "#regressor = SVR(kernel = 'rbf',gamma=1e-8,epsilon=0.0104,tol=0.120)\r\n",
        "regressor = SVR(kernel = 'rbf',gamma=1e-8,epsilon=0.0101,tol=0.120)\r\n",
        "regressor.fit(X,Y)"
      ],
      "execution_count": 67,
      "outputs": [
        {
          "output_type": "stream",
          "text": [
            "/usr/local/lib/python3.6/dist-packages/sklearn/utils/validation.py:760: DataConversionWarning: A column-vector y was passed when a 1d array was expected. Please change the shape of y to (n_samples, ), for example using ravel().\n",
            "  y = column_or_1d(y, warn=True)\n"
          ],
          "name": "stderr"
        },
        {
          "output_type": "execute_result",
          "data": {
            "text/plain": [
              "SVR(C=1.0, cache_size=200, coef0=0.0, degree=3, epsilon=0.0101, gamma=1e-08,\n",
              "    kernel='rbf', max_iter=-1, shrinking=True, tol=0.12, verbose=False)"
            ]
          },
          "metadata": {
            "tags": []
          },
          "execution_count": 67
        }
      ]
    },
    {
      "cell_type": "code",
      "metadata": {
        "id": "73sHcsVvDLUr"
      },
      "source": [
        "submission = regressor.predict(to_test)\r\n",
        "submission = sc_y.inverse_transform(submission)"
      ],
      "execution_count": 68,
      "outputs": []
    },
    {
      "cell_type": "code",
      "metadata": {
        "id": "vpO8LeJsyNg7"
      },
      "source": [
        "submission = pd.DataFrame(data = submission,columns=['time_spent'])"
      ],
      "execution_count": 69,
      "outputs": []
    },
    {
      "cell_type": "code",
      "metadata": {
        "id": "31Yk2Se4TyvY"
      },
      "source": [
        "# submission['time_spent'] = submission['time_spent'].abs()"
      ],
      "execution_count": 70,
      "outputs": []
    },
    {
      "cell_type": "code",
      "metadata": {
        "colab": {
          "base_uri": "https://localhost:8080/",
          "height": 17
        },
        "id": "Tc3vwOY9TGfa",
        "outputId": "444ffd0f-288e-49c0-b04d-6a765e1e2037"
      },
      "source": [
        "submission.to_csv('submission.csv', index=False)\r\n",
        "from google.colab import files\r\n",
        "files.download('submission.csv')"
      ],
      "execution_count": 71,
      "outputs": [
        {
          "output_type": "display_data",
          "data": {
            "application/javascript": [
              "\n",
              "    async function download(id, filename, size) {\n",
              "      if (!google.colab.kernel.accessAllowed) {\n",
              "        return;\n",
              "      }\n",
              "      const div = document.createElement('div');\n",
              "      const label = document.createElement('label');\n",
              "      label.textContent = `Downloading \"${filename}\": `;\n",
              "      div.appendChild(label);\n",
              "      const progress = document.createElement('progress');\n",
              "      progress.max = size;\n",
              "      div.appendChild(progress);\n",
              "      document.body.appendChild(div);\n",
              "\n",
              "      const buffers = [];\n",
              "      let downloaded = 0;\n",
              "\n",
              "      const channel = await google.colab.kernel.comms.open(id);\n",
              "      // Send a message to notify the kernel that we're ready.\n",
              "      channel.send({})\n",
              "\n",
              "      for await (const message of channel.messages) {\n",
              "        // Send a message to notify the kernel that we're ready.\n",
              "        channel.send({})\n",
              "        if (message.buffers) {\n",
              "          for (const buffer of message.buffers) {\n",
              "            buffers.push(buffer);\n",
              "            downloaded += buffer.byteLength;\n",
              "            progress.value = downloaded;\n",
              "          }\n",
              "        }\n",
              "      }\n",
              "      const blob = new Blob(buffers, {type: 'application/binary'});\n",
              "      const a = document.createElement('a');\n",
              "      a.href = window.URL.createObjectURL(blob);\n",
              "      a.download = filename;\n",
              "      div.appendChild(a);\n",
              "      a.click();\n",
              "      div.remove();\n",
              "    }\n",
              "  "
            ],
            "text/plain": [
              "<IPython.core.display.Javascript object>"
            ]
          },
          "metadata": {
            "tags": []
          }
        },
        {
          "output_type": "display_data",
          "data": {
            "application/javascript": [
              "download(\"download_64a6627e-9f2a-40d6-8b57-fb98847abc32\", \"submission.csv\", 43488)"
            ],
            "text/plain": [
              "<IPython.core.display.Javascript object>"
            ]
          },
          "metadata": {
            "tags": []
          }
        }
      ]
    },
    {
      "cell_type": "code",
      "metadata": {
        "id": "95ClPXX3q-ky"
      },
      "source": [
        ""
      ],
      "execution_count": 71,
      "outputs": []
    }
  ]
}